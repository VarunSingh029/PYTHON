{
 "cells": [
  {
   "cell_type": "markdown",
   "metadata": {},
   "source": [
    "CODE"
   ]
  },
  {
   "cell_type": "code",
   "execution_count": 23,
   "metadata": {},
   "outputs": [
    {
     "name": "stdout",
     "output_type": "stream",
     "text": [
      "[0, 1, 2, 3, 4, 6, 8]\n"
     ]
    }
   ],
   "source": [
    "def selection_sort(arr):\n",
    "    length=len(arr)\n",
    "    for i in range(length-1):\n",
    "        minindex=i\n",
    "        for j in range(i+1,length):\n",
    "            if(arr[j]<arr[minindex]):\n",
    "                minindex=j\n",
    "        arr[i],arr[minindex]=arr[minindex],arr[i]\n",
    "arr=[1,3,2,4,0,6,8]\n",
    "selection_sort(arr)\n",
    "print(arr)"
   ]
  },
  {
   "cell_type": "code",
   "execution_count": null,
   "metadata": {},
   "outputs": [],
   "source": []
  }
 ],
 "metadata": {
  "kernelspec": {
   "display_name": "Python 3",
   "language": "python",
   "name": "python3"
  },
  "language_info": {
   "codemirror_mode": {
    "name": "ipython",
    "version": 3
   },
   "file_extension": ".py",
   "mimetype": "text/x-python",
   "name": "python",
   "nbconvert_exporter": "python",
   "pygments_lexer": "ipython3",
   "version": "3.7.1"
  }
 },
 "nbformat": 4,
 "nbformat_minor": 2
}
