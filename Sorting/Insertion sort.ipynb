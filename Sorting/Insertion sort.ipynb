{
 "cells": [
  {
   "cell_type": "code",
   "execution_count": 8,
   "metadata": {},
   "outputs": [
    {
     "name": "stdout",
     "output_type": "stream",
     "text": [
      "[0, 0, 2, 2, 4, 6, 7, 9]\n"
     ]
    }
   ],
   "source": [
    "def insertion_sort(arr):\n",
    "    for i in range(1,len(arr)):\n",
    "        key=arr[i]\n",
    "    #move elemants of arr[0...i-1],that are greater than key to one position ahead of current position\n",
    "        j=i-1\n",
    "        while j>=0 and key<arr[j]:\n",
    "            arr[j+1]=arr[j]\n",
    "            j=j-1\n",
    "        arr[j+1]=key\n",
    "arr=[0,2,9,4,7,6,2,0]\n",
    "insertion_sort(arr)\n",
    "print(arr)"
   ]
  },
  {
   "cell_type": "code",
   "execution_count": 7,
   "metadata": {},
   "outputs": [
    {
     "name": "stdout",
     "output_type": "stream",
     "text": [
      "Sorted array is:\n",
      "5\n",
      "6\n",
      "11\n",
      "12\n",
      "13\n"
     ]
    }
   ],
   "source": [
    "# Python program for implementation of Insertion Sort \n",
    "\n",
    "# Function to do insertion sort \n",
    "def insertionSort(arr): \n",
    "\n",
    "\t# Traverse through 1 to len(arr) \n",
    "\tfor i in range(1, len(arr)): \n",
    "\n",
    "\t\tkey = arr[i] \n",
    "\n",
    "\t\t# Move elements of arr[0..i-1], that are \n",
    "\t\t# greater than key, to one position ahead \n",
    "\t\t# of their current position \n",
    "\t\tj = i-1\n",
    "\t\twhile j >=0 and key < arr[j] : \n",
    "\t\t\t\tarr[j+1] = arr[j] \n",
    "\t\t\t\tj -= 1\n",
    "\t\tarr[j+1] = key \n",
    "\n",
    "\n",
    "# Driver code to test above \n",
    "arr = [12, 11, 13, 5, 6] \n",
    "insertionSort(arr) \n",
    "print (\"Sorted array is:\") \n",
    "for i in range(len(arr)): \n",
    "\tprint (\"%d\" %arr[i]) \n",
    "\n",
    "# This code is contributed by Mohit Kumra \n"
   ]
  }
 ],
 "metadata": {
  "kernelspec": {
   "display_name": "Python 3",
   "language": "python",
   "name": "python3"
  },
  "language_info": {
   "codemirror_mode": {
    "name": "ipython",
    "version": 3
   },
   "file_extension": ".py",
   "mimetype": "text/x-python",
   "name": "python",
   "nbconvert_exporter": "python",
   "pygments_lexer": "ipython3",
   "version": "3.7.1"
  }
 },
 "nbformat": 4,
 "nbformat_minor": 2
}
