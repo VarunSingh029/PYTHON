{
 "cells": [
  {
   "cell_type": "code",
   "execution_count": null,
   "metadata": {},
   "outputs": [
    {
     "name": "stdout",
     "output_type": "stream",
     "text": [
      "123\n",
      "321\n"
     ]
    }
   ],
   "source": [
    "n=int(input())\n",
    "rev=0\n",
    "while(n>0):\n",
    "    a=n%10  #gives last digit\n",
    "    n=n//10   #removes last digit\n",
    "    rev=rev*10+a\n",
    "print(rev)"
   ]
  },
  {
   "cell_type": "code",
   "execution_count": 2,
   "metadata": {},
   "outputs": [
    {
     "name": "stdout",
     "output_type": "stream",
     "text": [
      "Enter a two value: 11 22\n",
      "Number of boys:  11\n",
      "Number of girls:  22\n",
      "\n"
     ]
    }
   ],
   "source": [
    "x, y = input(\"Enter a two value: \").split(\" \") \n",
    "print(\"Number of boys: \", x) \n",
    "print(\"Number of girls: \", y) \n",
    "print() \n"
   ]
  },
  {
   "cell_type": "code",
   "execution_count": 4,
   "metadata": {},
   "outputs": [
    {
     "name": "stdout",
     "output_type": "stream",
     "text": [
      "Enter a two value: 12 12\n",
      "Number of boys:  12\n",
      "Number of girls:  12\n",
      "\n",
      "Enter a three value: 1 11 1\n",
      "Total number of students:  1\n",
      "Number of boys is :  11\n",
      "Number of girls is :  1\n",
      "\n",
      "Enter a two value: 1 1\n",
      "First number is 1 and second number is 1\n",
      "\n",
      "Enter a multiple value: 1 2 3 4 5 3 \n",
      "List of students:  [1, 2, 3, 4, 5, 3]\n"
     ]
    }
   ],
   "source": [
    "# Python program showing how to \n",
    "# multiple input using split \n",
    "\n",
    "# taking two inputs at a time \n",
    "x, y = input(\"Enter a two value: \").split() \n",
    "print(\"Number of boys: \", x) \n",
    "print(\"Number of girls: \", y) \n",
    "print() \n",
    "\n",
    "# taking three inputs at a time \n",
    "x, y, z = input(\"Enter a three value: \").split() \n",
    "print(\"Total number of students: \", x) \n",
    "print(\"Number of boys is : \", y) \n",
    "print(\"Number of girls is : \", z) \n",
    "print() \n",
    "\n",
    "# taking two inputs at a time \n",
    "a, b = input(\"Enter a two value: \").split() \n",
    "print(\"First number is {} and second number is {}\".format(a, b)) \n",
    "print() \n",
    "\n",
    "# taking multiple inputs at a time \n",
    "# and type casting using list() function \n",
    "x = list(map(int, input(\"Enter a multiple value: \").split())) \n",
    "print(\"List of students: \", x) \n"
   ]
  },
  {
   "cell_type": "code",
   "execution_count": 8,
   "metadata": {},
   "outputs": [
    {
     "name": "stdout",
     "output_type": "stream",
     "text": [
      "1 2 3\n",
      "[1, 2, 3]\n"
     ]
    }
   ],
   "source": [
    "\n",
    "str=list(int(i) for i in input().split())\n",
    "print(str)"
   ]
  },
  {
   "cell_type": "code",
   "execution_count": 10,
   "metadata": {},
   "outputs": [
    {
     "name": "stdout",
     "output_type": "stream",
     "text": [
      "abc\n",
      "cba\n",
      "false\n"
     ]
    }
   ],
   "source": [
    "n=input()\n",
    "a=n[::-1]\n",
    "print(a)\n",
    "if(a==n):\n",
    "    print('true')\n",
    "else:\n",
    "    print('false')\n"
   ]
  },
  {
   "cell_type": "code",
   "execution_count": 13,
   "metadata": {},
   "outputs": [
    {
     "name": "stdout",
     "output_type": "stream",
     "text": [
      "acaca\n",
      "a\n",
      "a1\n",
      "c\n",
      "c1\n",
      "a\n",
      "a1\n",
      "c\n",
      "c1\n",
      "a\n",
      "a1\n"
     ]
    }
   ],
   "source": [
    "n=input()\n",
    "for i in n[::]:\n",
    "    print(i)\n",
    "    print(i+\"1\")"
   ]
  },
  {
   "cell_type": "code",
   "execution_count": 16,
   "metadata": {},
   "outputs": [
    {
     "name": "stdout",
     "output_type": "stream",
     "text": [
      "3\n",
      "1 2 3\n",
      "2 1 3 "
     ]
    }
   ],
   "source": [
    "size=int(input())\n",
    "n=[int(i) for i in input().split()]\n",
    "if size%2==0:\n",
    "    for s in range(0,size,2):\n",
    "        n[s],n[s+1]=n[s+1],n[s]\n",
    "else:\n",
    "    for s in range(0,size-1,2):\n",
    "        n[s],n[s+1]=n[s+1],n[s]\n",
    "for i in range(len(n)):\n",
    "    print(n[i],\"\",end='')"
   ]
  },
  {
   "cell_type": "code",
   "execution_count": 8,
   "metadata": {},
   "outputs": [
    {
     "name": "stdout",
     "output_type": "stream",
     "text": [
      "\n"
     ]
    },
    {
     "ename": "ValueError",
     "evalue": "invalid literal for int() with base 10: ''",
     "output_type": "error",
     "traceback": [
      "\u001b[1;31m---------------------------------------------------------------------------\u001b[0m",
      "\u001b[1;31mValueError\u001b[0m                                Traceback (most recent call last)",
      "\u001b[1;32m<ipython-input-8-a69739379921>\u001b[0m in \u001b[0;36m<module>\u001b[1;34m\u001b[0m\n\u001b[0;32m     13\u001b[0m \u001b[1;33m\u001b[0m\u001b[0m\n\u001b[0;32m     14\u001b[0m \u001b[1;31m# Main\u001b[0m\u001b[1;33m\u001b[0m\u001b[1;33m\u001b[0m\u001b[1;33m\u001b[0m\u001b[0m\n\u001b[1;32m---> 15\u001b[1;33m \u001b[0mn\u001b[0m \u001b[1;33m=\u001b[0m \u001b[0mint\u001b[0m\u001b[1;33m(\u001b[0m\u001b[0minput\u001b[0m\u001b[1;33m(\u001b[0m\u001b[1;33m)\u001b[0m\u001b[1;33m)\u001b[0m\u001b[1;33m\u001b[0m\u001b[1;33m\u001b[0m\u001b[0m\n\u001b[0m\u001b[0;32m     16\u001b[0m \u001b[0marr\u001b[0m \u001b[1;33m=\u001b[0m \u001b[1;33m[\u001b[0m\u001b[0mint\u001b[0m\u001b[1;33m(\u001b[0m\u001b[0mi\u001b[0m\u001b[1;33m)\u001b[0m \u001b[1;32mfor\u001b[0m \u001b[0mi\u001b[0m \u001b[1;32min\u001b[0m \u001b[0minput\u001b[0m\u001b[1;33m(\u001b[0m\u001b[1;33m)\u001b[0m\u001b[1;33m.\u001b[0m\u001b[0mstrip\u001b[0m\u001b[1;33m(\u001b[0m\u001b[1;33m)\u001b[0m\u001b[1;33m.\u001b[0m\u001b[0msplit\u001b[0m\u001b[1;33m(\u001b[0m\u001b[1;33m)\u001b[0m\u001b[1;33m]\u001b[0m\u001b[1;33m\u001b[0m\u001b[1;33m\u001b[0m\u001b[0m\n\u001b[0;32m     17\u001b[0m \u001b[0mprint\u001b[0m\u001b[1;33m(\u001b[0m\u001b[0mequilibriumIndex\u001b[0m\u001b[1;33m(\u001b[0m\u001b[0marr\u001b[0m\u001b[1;33m)\u001b[0m\u001b[1;33m)\u001b[0m\u001b[1;33m\u001b[0m\u001b[1;33m\u001b[0m\u001b[0m\n",
      "\u001b[1;31mValueError\u001b[0m: invalid literal for int() with base 10: ''"
     ]
    }
   ],
   "source": [
    "def equilibriumIndex(arr):\n",
    "    for i in range(len(arr)):\n",
    "        leftsum=0\n",
    "        rightsum=0\n",
    "        for j in range(i):\n",
    "            leftsum=leftsum+arr[j]\n",
    "        for j in range(i+1):\n",
    "            rightsum=rightsum+arr[j]\n",
    "    if(leftsum==rightsum):\n",
    "        return i\n",
    "    else:\n",
    "        return -1\n",
    "\n",
    "# Main\n",
    "n = int(input())\n",
    "arr = [int(i) for i in input().strip().split()]\n",
    "print(equilibriumIndex(arr))\n"
   ]
  },
  {
   "cell_type": "code",
   "execution_count": 11,
   "metadata": {},
   "outputs": [
    {
     "name": "stdout",
     "output_type": "stream",
     "text": [
      "7\n",
      "-7 1 5 2 -4 3 0\n",
      "3\n"
     ]
    }
   ],
   "source": [
    "def equilibrium(arr): \n",
    "    leftsum = 0\n",
    "    rightsum = 0\n",
    "    n = len(arr) \n",
    "  \n",
    "    # Check for indexes one by one  \n",
    "    # until an equilibrium index is found \n",
    "    for i in range(n): \n",
    "        leftsum = 0\n",
    "        rightsum = 0\n",
    "      \n",
    "        # get left sum \n",
    "        for j in range(i): \n",
    "            leftsum += arr[j] \n",
    "          \n",
    "        # get right sum \n",
    "        for j in range(i + 1, n): \n",
    "            rightsum += arr[j] \n",
    "          \n",
    "        # if leftsum and rightsum are same, \n",
    "        # then we are done \n",
    "        if leftsum == rightsum: \n",
    "            return i \n",
    "      \n",
    "    # return -1 if no equilibrium index is found \n",
    "    return -1\n",
    "              \n",
    "# driver code \n",
    "size=int(input())\n",
    "arr = [int(i) for i in input().strip().split()]\n",
    "print (equilibrium(arr)) \n",
    "  "
   ]
  },
  {
   "cell_type": "code",
   "execution_count": 2,
   "metadata": {},
   "outputs": [
    {
     "name": "stdout",
     "output_type": "stream",
     "text": [
      "0\n",
      "100\n",
      "20\n",
      "0 \t -17\n",
      "20 \t -6\n",
      "40 \t 4\n",
      "60 \t 15\n",
      "80 \t 26\n",
      "100 \t 37\n"
     ]
    }
   ],
   "source": [
    "\n",
    "\n",
    "\n",
    "def printTable(s,e,w):\n",
    "    while(s<=e):\n",
    "        c=((s-32)*5)/9\n",
    "        print(s,\"\\t\",int(c))\n",
    "        s=s+w\n",
    "    \n",
    "\n",
    "\t   \n",
    "s = int(input())\n",
    "e = int(input())\n",
    "w= int(input())\n",
    "printTable(s,e,w)"
   ]
  },
  {
   "cell_type": "code",
   "execution_count": 8,
   "metadata": {},
   "outputs": [
    {
     "name": "stdout",
     "output_type": "stream",
     "text": [
      "4\n",
      "false\n"
     ]
    }
   ],
   "source": [
    "\n",
    "def checkMember(n):\n",
    "    a=0\n",
    "    flag=0\n",
    "    b=1\n",
    "    i=1\n",
    "    while(i<=100):\n",
    "        c=a+b\n",
    "        a=b\n",
    "        b=c\n",
    "        i=i+1\n",
    "        if(a==n):\n",
    "            flag=1\n",
    "            break\n",
    "    return flag\n",
    "    \n",
    "\n",
    "n=int(input())\n",
    "if(checkMember(n)):\n",
    "    print(\"true\")\n",
    "else:\n",
    "    print(\"false\")"
   ]
  },
  {
   "cell_type": "code",
   "execution_count": 6,
   "metadata": {},
   "outputs": [
    {
     "name": "stdout",
     "output_type": "stream",
     "text": [
      "6\n",
      "4 7 1 7 1 9 \n",
      "{4: 1, 7: 2, 1: 2, 9: 1}\n",
      "7\n"
     ]
    }
   ],
   "source": [
    "n=int(input())\n",
    "arr=list( int(i) for i in input().split())\n",
    "dict={}\n",
    "for i in arr:\n",
    "    if i in dict:\n",
    "        dict[i]+=1\n",
    "    else:\n",
    "        dict[i]=1\n",
    "print(dict)\n",
    "for i in dict:\n",
    "    if dict[i]%2==0:\n",
    "        print(i)\n",
    "        break\n",
    "    if i==len(dict)-1:\n",
    "        print(-1)"
   ]
  },
  {
   "cell_type": "code",
   "execution_count": 21,
   "metadata": {},
   "outputs": [
    {
     "data": {
      "text/plain": [
       "2"
      ]
     },
     "execution_count": 21,
     "metadata": {},
     "output_type": "execute_result"
    }
   ],
   "source": [
    "d={1:d,2:2}\n",
    "len(d)"
   ]
  },
  {
   "cell_type": "code",
   "execution_count": null,
   "metadata": {},
   "outputs": [],
   "source": []
  },
  {
   "cell_type": "code",
   "execution_count": 1,
   "metadata": {},
   "outputs": [
    {
     "name": "stdout",
     "output_type": "stream",
     "text": [
      "<class 'str'>\n",
      "<class 'int'>\n",
      "33\n"
     ]
    }
   ],
   "source": [
    "b='33'\n",
    "print(type(b))\n",
    "c=int(b)\n",
    "print(type(c))\n",
    "print(c)"
   ]
  }
 ],
 "metadata": {
  "kernelspec": {
   "display_name": "Python 3",
   "language": "python",
   "name": "python3"
  },
  "language_info": {
   "codemirror_mode": {
    "name": "ipython",
    "version": 3
   },
   "file_extension": ".py",
   "mimetype": "text/x-python",
   "name": "python",
   "nbconvert_exporter": "python",
   "pygments_lexer": "ipython3",
   "version": "3.8.3"
  }
 },
 "nbformat": 4,
 "nbformat_minor": 2
}
