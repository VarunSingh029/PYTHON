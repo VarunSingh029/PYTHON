{
 "cells": [
  {
   "cell_type": "markdown",
   "metadata": {},
   "source": [
    "# Linear search"
   ]
  },
  {
   "cell_type": "code",
   "execution_count": 18,
   "metadata": {},
   "outputs": [
    {
     "name": "stdout",
     "output_type": "stream",
     "text": [
      "7\n",
      "2\n"
     ]
    }
   ],
   "source": [
    "li=[2,4,7,9,10,11]\n",
    "ele=int(input())\n",
    "isfound=False\n",
    "for i in range(len(li)):\n",
    "    if li[i]==ele:\n",
    "        print(i)\n",
    "        isfound=True\n",
    "        break\n",
    "if isfound is False:\n",
    "        print(-1)"
   ]
  },
  {
   "cell_type": "markdown",
   "metadata": {},
   "source": [
    "# Linear search through functions"
   ]
  },
  {
   "cell_type": "code",
   "execution_count": 28,
   "metadata": {},
   "outputs": [
    {
     "name": "stdout",
     "output_type": "stream",
     "text": [
      "3\n",
      "None\n"
     ]
    }
   ],
   "source": [
    "def linear_search(li,ele):\n",
    "    found=False\n",
    "    for i in range(len(li)):\n",
    "        if(li[i]==ele):\n",
    "            print(i)\n",
    "            found=True\n",
    "    if found==False:\n",
    "        print(-1)\n",
    "li=[2,5,4,9,7,8,11,45]\n",
    "print(linear_search(li,9))"
   ]
  },
  {
   "cell_type": "markdown",
   "metadata": {},
   "source": [
    "# Binary search"
   ]
  },
  {
   "cell_type": "code",
   "execution_count": 34,
   "metadata": {},
   "outputs": [
    {
     "name": "stdout",
     "output_type": "stream",
     "text": [
      "10\n",
      "-1\n"
     ]
    }
   ],
   "source": [
    "def binary_search(li,ele):\n",
    "    end=len(li)-1\n",
    "    start=0\n",
    "    while(start<=end):\n",
    "        mid=(end+start)//2\n",
    "        if(li[mid]==ele):\n",
    "            return mid\n",
    "        elif(mid<ele):\n",
    "            start=mid+1\n",
    "        else:\n",
    "            end=mid-1\n",
    "    return -1\n",
    "        \n",
    "\n",
    "\n",
    "li=[1,2,3,4,5,6,7,8,9]\n",
    "ele=int(input())\n",
    "print(binary_search(li,ele))\n"
   ]
  }
 ],
 "metadata": {
  "kernelspec": {
   "display_name": "Python 3",
   "language": "python",
   "name": "python3"
  },
  "language_info": {
   "codemirror_mode": {
    "name": "ipython",
    "version": 3
   },
   "file_extension": ".py",
   "mimetype": "text/x-python",
   "name": "python",
   "nbconvert_exporter": "python",
   "pygments_lexer": "ipython3",
   "version": "3.7.4"
  }
 },
 "nbformat": 4,
 "nbformat_minor": 2
}
