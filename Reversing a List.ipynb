{
 "cells": [
  {
   "cell_type": "code",
   "execution_count": 3,
   "metadata": {},
   "outputs": [
    {
     "name": "stdout",
     "output_type": "stream",
     "text": [
      "1 2 3 4 5\n",
      "[5, 4, 3, 2, 1]\n"
     ]
    }
   ],
   "source": [
    "def reverse(li):\n",
    "    length=len(li)\n",
    "    for i in range(length//2):\n",
    "        li[i],li[length-i-1]=li[length-i-1],li[i]\n",
    "        \n",
    "        \n",
    "\n",
    "\n",
    "li=[int(x) for x in input().split()]\n",
    "\n",
    "reverse(li)\n",
    "print(li)"
   ]
  },
  {
   "cell_type": "markdown",
   "metadata": {},
   "source": [
    "# Reversing alternate elements"
   ]
  },
  {
   "cell_type": "code",
   "execution_count": 10,
   "metadata": {},
   "outputs": [
    {
     "name": "stdout",
     "output_type": "stream",
     "text": [
      "Enter array elements with space\n",
      "1 2 3 4 5\n",
      "2 1 4 3 5 "
     ]
    }
   ],
   "source": [
    "def rev_alt_arr(arr,length):\n",
    "    for i in range(0,length-1,2):\n",
    "        arr[i],arr[i+1]=arr[i+1],arr[i]\n",
    "        \n",
    "print(\"Enter array elements with space\")\n",
    "arr=[int(i) for i in input().split()]\n",
    "length=len(arr)\n",
    "rev_alt_arr(arr,length)\n",
    "for i in arr:\n",
    "    print(i,end=\" \")\n",
    "    "
   ]
  },
  {
   "cell_type": "code",
   "execution_count": 3,
   "metadata": {},
   "outputs": [
    {
     "name": "stdout",
     "output_type": "stream",
     "text": [
      "9\n",
      "1 3 1 4 5 6 4 8 3\n",
      "7\n"
     ]
    }
   ],
   "source": [
    "## Read input as specified in the question.\n",
    "## Print output as specified in the question.\n",
    "# Python program to find maximum distance between two \n",
    "# same occurrences of a number. \n",
    "\n",
    "# Function to find maximum distance between equal elements \n",
    "def maxDistance(arr, n): \n",
    "\t\n",
    "\t# Used to store element to first index mapping \n",
    "\tmp = {} \n",
    "\n",
    "\t# Traverse elements and find maximum distance between \n",
    "\t# same occurrences with the help of map. \n",
    "\tmaxDict = 0\n",
    "\tfor i in range(n): \n",
    "\n",
    "\t\t# If this is first occurrence of element, insert its \n",
    "\t\t# index in map \n",
    "\t\tif arr[i] not in mp.keys(): \n",
    "\t\t\tmp[arr[i]] = i \n",
    "\n",
    "\t\t# Else update max distance \n",
    "\t\telse: \n",
    "\t\t\tmaxDict = max(maxDict, i-mp[arr[i]]) \n",
    "\n",
    "\treturn maxDict \n",
    "\n",
    "n=int(input())\n",
    "arr =list(int(i) for i in input().split())\n",
    "print(maxDistance(arr, n)) \n",
    "\n",
    " \n"
   ]
  },
  {
   "cell_type": "code",
   "execution_count": null,
   "metadata": {},
   "outputs": [],
   "source": [
    "n=int(input())\n",
    "arr=list(int(i) for i in input().split())\n",
    "li=[]\n",
    "for i in range(0,n):\n",
    "    if arr[i] not in li:\n",
    "        li.append(arr[i])\n",
    "b=len(li)\n",
    "print(n-b)\n"
   ]
  },
  {
   "cell_type": "code",
   "execution_count": 16,
   "metadata": {},
   "outputs": [
    {
     "name": "stdout",
     "output_type": "stream",
     "text": [
      "aad\n",
      "d\n"
     ]
    }
   ],
   "source": [
    "n=input().split()\n",
    "li=[]\n",
    "for i in n:\n",
    "    li.append(i)\n",
    "for i in range(0,len(li)):\n",
    "    if li[i] not in li[i+1:] and li[i] not in li[:i]:\n",
    "        print(li[i])\n",
    "        break"
   ]
  },
  {
   "cell_type": "code",
   "execution_count": 20,
   "metadata": {},
   "outputs": [
    {
     "name": "stdout",
     "output_type": "stream",
     "text": [
      "Abhishek harshit Ayush harshit Ayush Iti Deepak Ayush Iti\n",
      "Abhishek 1\n",
      "harshit 1\n",
      "Ayush 1\n",
      "harshit 1\n",
      "Ayush 1\n",
      "Iti 1\n",
      "Deepak 1\n",
      "Ayush 1\n",
      "Iti 1\n"
     ]
    }
   ],
   "source": [
    "n=input().split()\n",
    "d={}\n",
    "for i in range(0,len(n)):\n",
    "    count=0\n",
    "    if n[i] not in d:\n",
    "        count+=1\n",
    "        d[count]=n[i]\n",
    "    print(n[i],count)"
   ]
  }
 ],
 "metadata": {
  "kernelspec": {
   "display_name": "Python 3",
   "language": "python",
   "name": "python3"
  },
  "language_info": {
   "codemirror_mode": {
    "name": "ipython",
    "version": 3
   },
   "file_extension": ".py",
   "mimetype": "text/x-python",
   "name": "python",
   "nbconvert_exporter": "python",
   "pygments_lexer": "ipython3",
   "version": "3.7.4"
  }
 },
 "nbformat": 4,
 "nbformat_minor": 2
}
