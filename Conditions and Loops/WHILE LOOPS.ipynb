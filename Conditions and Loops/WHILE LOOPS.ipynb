{
 "cells": [
  {
   "cell_type": "code",
   "execution_count": null,
   "metadata": {},
   "outputs": [],
   "source": [
    "n=int(input())\n",
    "i=1\n",
    "while i<=n:\n",
    "    print(1)\n",
    "    i=i+1"
   ]
  },
  {
   "cell_type": "code",
   "execution_count": 1,
   "metadata": {},
   "outputs": [
    {
     "name": "stdout",
     "output_type": "stream",
     "text": [
      "0\n",
      "1\n",
      "2\n",
      "3\n",
      "4\n",
      "5\n",
      "6\n",
      "7\n",
      "8\n",
      "9\n"
     ]
    }
   ],
   "source": [
    "i=0\n",
    "while i<10:\n",
    "    print(i)\n",
    "    i= i+1"
   ]
  },
  {
   "cell_type": "code",
   "execution_count": null,
   "metadata": {},
   "outputs": [],
   "source": [
    "n=int(input())\n",
    "i=1\n",
    "while(i<=n):\n",
    "    if(i%2==0)\n",
    "    sum=sum+i\n",
    "    i=i+1\n",
    "    print(sum)\n",
    "    "
   ]
  },
  {
   "cell_type": "code",
   "execution_count": 13,
   "metadata": {},
   "outputs": [
    {
     "name": "stdout",
     "output_type": "stream",
     "text": [
      "3\n",
      "6\n"
     ]
    }
   ],
   "source": [
    "n=int(input())\n",
    "a=2\n",
    "sum=int(((n**a)+n)/2)\n",
    "print(sum)\n"
   ]
  },
  {
   "cell_type": "code",
   "execution_count": 3,
   "metadata": {},
   "outputs": [
    {
     "name": "stdout",
     "output_type": "stream",
     "text": [
      "5\n",
      "0\n",
      "2\n",
      "2\n",
      "6\n",
      "6\n"
     ]
    }
   ],
   "source": [
    "n=int(input())\n",
    "i=1\n",
    "sum=0\n",
    "while (i<=n):\n",
    "    if (i%2==0):\n",
    "        sum=sum+i\n",
    "    i=i+1\n",
    "    print(sum)"
   ]
  },
  {
   "cell_type": "code",
   "execution_count": 5,
   "metadata": {},
   "outputs": [
    {
     "name": "stdout",
     "output_type": "stream",
     "text": [
      "0\n",
      "1\n",
      "2\n",
      "3\n",
      "4\n",
      "5\n",
      "6\n",
      "7\n",
      "8\n",
      "9\n"
     ]
    }
   ],
   "source": [
    "\n",
    "i=0\n",
    "while i<10:\n",
    "    print(i)\n",
    "    i=i+1"
   ]
  },
  {
   "cell_type": "code",
   "execution_count": null,
   "metadata": {},
   "outputs": [],
   "source": [
    "####   prime number\n",
    "\n",
    "n=int(input())\n",
    "j=2\n",
    "flag=True\n",
    "while (j<n):\n",
    "    if(n%j==0):\n",
    "        flag=False\n",
    "        j=j+1\n",
    "        \n",
    "if flag==False:\n",
    "        print(\"not prime\")\n",
    "else:\n",
    "        print(\"Prime\")"
   ]
  },
  {
   "cell_type": "code",
   "execution_count": 1,
   "metadata": {},
   "outputs": [
    {
     "name": "stdout",
     "output_type": "stream",
     "text": [
      "2\n",
      "3\n",
      "2\n"
     ]
    }
   ],
   "source": [
    "n=int(input())\n",
    "m=int(input())\n",
    "if (n%2==0):\n",
    "    if(m%2==0):\n",
    "        print(1)\n",
    "    else:\n",
    "        print(2)\n",
    "else:\n",
    "    print(3)"
   ]
  },
  {
   "cell_type": "code",
   "execution_count": 9,
   "metadata": {},
   "outputs": [
    {
     "name": "stdout",
     "output_type": "stream",
     "text": [
      "4\n",
      "1\n",
      "1\n",
      "1\n",
      "1\n"
     ]
    }
   ],
   "source": [
    "n=int(input())\n",
    "while n>=1:\n",
    "    \n",
    "    print(1)\n",
    "    n=n-1\n",
    "    "
   ]
  },
  {
   "cell_type": "code",
   "execution_count": 10,
   "metadata": {},
   "outputs": [
    {
     "name": "stdout",
     "output_type": "stream",
     "text": [
      "4\n",
      "1\n",
      "1\n",
      "1\n",
      "1\n"
     ]
    }
   ],
   "source": [
    "n=int(input())\n",
    "count=1\n",
    "while count<=n:\n",
    "    print(1)\n",
    "    count=count+1"
   ]
  },
  {
   "cell_type": "code",
   "execution_count": 12,
   "metadata": {},
   "outputs": [
    {
     "name": "stdout",
     "output_type": "stream",
     "text": [
      "4\n",
      "1\n",
      "2\n",
      "3\n",
      "4\n"
     ]
    }
   ],
   "source": [
    "n=int(input())\n",
    "count=1\n",
    "while count<=n:\n",
    "    print(count)\n",
    "    count=count+1"
   ]
  },
  {
   "cell_type": "code",
   "execution_count": 15,
   "metadata": {},
   "outputs": [
    {
     "name": "stdout",
     "output_type": "stream",
     "text": [
      "10\n",
      "30\n"
     ]
    }
   ],
   "source": [
    "n=int(input())\n",
    "sum=0\n",
    "i=1\n",
    "while i<=n:\n",
    "    if(i%2==0):\n",
    "        sum=sum+i\n",
    "        i=i+1\n",
    "    else:\n",
    "        i=i+1\n",
    "print(sum)"
   ]
  },
  {
   "cell_type": "code",
   "execution_count": 24,
   "metadata": {},
   "outputs": [
    {
     "name": "stdout",
     "output_type": "stream",
     "text": [
      "6\n",
      "Invalid Operation\n"
     ]
    }
   ],
   "source": [
    "ch=int(input())\n",
    "if ch==1:\n",
    "    a=int(input())\n",
    "    b=int(input())\n",
    "    print(a+b)\n",
    "elif ch==2:\n",
    "    a=int(input())\n",
    "    b=int(input())\n",
    "    print(a-b)\n",
    "elif ch==3:\n",
    "    a=int(input())\n",
    "    b=int(input())\n",
    "    print(a*b)\n",
    "elif ch==4:\n",
    "    a=int(input())\n",
    "    b=int(input())\n",
    "    print(a/b)\n",
    "elif ch==5:\n",
    "    a=int(input())\n",
    "    b=int(input())\n",
    "    print(a%b)\n",
    "else:\n",
    "    print(\"Invalid Operation\")"
   ]
  },
  {
   "cell_type": "code",
   "execution_count": 25,
   "metadata": {},
   "outputs": [
    {
     "name": "stdout",
     "output_type": "stream",
     "text": [
      "3\n",
      "566\n",
      "33\n",
      "533\n"
     ]
    }
   ],
   "source": [
    "\n",
    "ch=int(input())\n",
    "if ch==1:\n",
    "    a=int(input())\n",
    "    b=int(input())\n",
    "    print(a+b)\n",
    "elif ch==2:\n",
    "    a=int(input())\n",
    "    b=int(input())\n",
    "    print(a+b)\n",
    "elif ch==3:\n",
    "    a=int(input())\n",
    "    b=int(input())\n",
    "    print(a-b)\n",
    "elif ch==4:\n",
    "    a=int(input())\n",
    "    b=int(input())\n",
    "    print(a/b)\n",
    "elif ch==5:\n",
    "    a=int(input())\n",
    "    b=int(input())\n",
    "    print(a%b)\n",
    "else:\n",
    "    print(\"Invalid Operation\")"
   ]
  },
  {
   "cell_type": "markdown",
   "metadata": {},
   "source": [
    "### IMPORTANTS"
   ]
  },
  {
   "cell_type": "code",
   "execution_count": 50,
   "metadata": {},
   "outputs": [
    {
     "name": "stdout",
     "output_type": "stream",
     "text": [
      "123\n",
      "321\n"
     ]
    }
   ],
   "source": [
    "# reverse a number\n",
    "n=int(input())\n",
    "rev=0\n",
    "while( n>0):\n",
    "    a=n%10\n",
    "    n=n//10\n",
    "    rev=rev*10+a\n",
    "print(rev)\n",
    "    \n",
    "    "
   ]
  },
  {
   "cell_type": "code",
   "execution_count": 55,
   "metadata": {},
   "outputs": [
    {
     "name": "stdout",
     "output_type": "stream",
     "text": [
      "455\n",
      "false\n"
     ]
    }
   ],
   "source": [
    "# palindrome\n",
    "n=int(input())\n",
    "b=n\n",
    "rev=0\n",
    "while( n!=0):\n",
    "    a=n%10\n",
    "    n=n//10\n",
    "    rev=rev*10+a\n",
    "if(rev==b):\n",
    "    print(\"true\")\n",
    "else:\n",
    "    print(\"false\")\n"
   ]
  },
  {
   "cell_type": "code",
   "execution_count": 57,
   "metadata": {},
   "outputs": [
    {
     "name": "stdout",
     "output_type": "stream",
     "text": [
      "6\n",
      "12  9\n"
     ]
    }
   ],
   "source": [
    "# print sum of all even and odd digits seperately\n",
    "n=int(input())\n",
    "i=0\n",
    "sum1=0\n",
    "sum2=0\n",
    "while(i<=n):\n",
    "    if(i%2==0):\n",
    "        sum1=sum1+i\n",
    "        i=i+1\n",
    "    else:\n",
    "        sum2=sum2+i\n",
    "        i=i+1\n",
    "print(sum1,\"\",sum2)"
   ]
  },
  {
   "cell_type": "code",
   "execution_count": 61,
   "metadata": {},
   "outputs": [
    {
     "name": "stdout",
     "output_type": "stream",
     "text": [
      "123456\n",
      "12  9\n"
     ]
    }
   ],
   "source": [
    "n=int(input())\n",
    "evsum=0\n",
    "odsum=0\n",
    "while(n!=0):\n",
    "    a=n%10\n",
    "    n=n//10\n",
    "    if(a%2==0):\n",
    "        evsum=evsum+a\n",
    "    else:\n",
    "        odsum=odsum+a\n",
    "print(evsum,\"\",odsum)"
   ]
  },
  {
   "cell_type": "code",
   "execution_count": 72,
   "metadata": {},
   "outputs": [
    {
     "name": "stdout",
     "output_type": "stream",
     "text": [
      "6\n",
      "8\n"
     ]
    }
   ],
   "source": [
    "n=int(input())\n",
    "a=0\n",
    "b=1\n",
    "i=1\n",
    "while(i<=n):\n",
    "    c=a+b\n",
    "    a=b\n",
    "    b=c\n",
    "    i=i+1\n",
    "print(a)\n",
    "    "
   ]
  },
  {
   "cell_type": "code",
   "execution_count": 5,
   "metadata": {},
   "outputs": [
    {
     "name": "stdout",
     "output_type": "stream",
     "text": [
      "12\n",
      "Invalid Operation\n",
      "2\n",
      "223\n",
      "23\n",
      "200\n",
      "6\n"
     ]
    }
   ],
   "source": [
    "n=int(input())\n",
    "while(n!=6):\n",
    "    if( n>=1  and n<=5):\n",
    "        \n",
    "        a=int(input())\n",
    "        b=int(input())\n",
    "    if(n==1):\n",
    "        print(a+b)\n",
    "    if( n == 2 ):\n",
    "        print(a-b)\n",
    "    if( n == 3 ):\n",
    "        print(a*b)\n",
    "    if( n == 4 ):\n",
    "        print(a//b)\n",
    "    if( n == 5 ):\n",
    "        print(a%b)\n",
    "    elif(n>6 or n<1):\n",
    "        print(\"Invalid Operation\")\n",
    "        \n",
    "    n=int(input())\n"
   ]
  },
  {
   "cell_type": "markdown",
   "metadata": {},
   "source": [
    " Reversing a number"
   ]
  },
  {
   "cell_type": "code",
   "execution_count": 9,
   "metadata": {},
   "outputs": [
    {
     "name": "stdout",
     "output_type": "stream",
     "text": [
      "152\n",
      "251\n"
     ]
    }
   ],
   "source": [
    "def reverse(n):\n",
    "    \n",
    "    rev=0\n",
    "    while(n>0):\n",
    "        a=n%10\n",
    "        rev=(rev*10)+a\n",
    "        n=n//10\n",
    "    return rev\n",
    "        \n",
    "n=int(input())\n",
    "a=reverse(n)\n",
    "print(a)"
   ]
  },
  {
   "cell_type": "code",
   "execution_count": 18,
   "metadata": {},
   "outputs": [
    {
     "name": "stdout",
     "output_type": "stream",
     "text": [
      "121\n",
      "true\n"
     ]
    }
   ],
   "source": [
    "def checkPalindrome(num):\n",
    "    rev=0\n",
    "    while(num>0):\n",
    "        a=num%10\n",
    "        rev=(rev*10)+a\n",
    "        num=num//10\n",
    "    return rev\n",
    "\n",
    "num = int(input())\n",
    "isPalindrome = checkPalindrome(num)\n",
    "if(isPalindrome==num):\n",
    "\tprint('true')\n",
    "else:\n",
    "\tprint('false')\n"
   ]
  },
  {
   "cell_type": "code",
   "execution_count": 21,
   "metadata": {},
   "outputs": [
    {
     "name": "stdout",
     "output_type": "stream",
     "text": [
      "4\n",
      "2\n"
     ]
    }
   ],
   "source": [
    "\n",
    "\n",
    "def fibonacci(n): \n",
    "\ta = 0\n",
    "\tb = 1\n",
    "\tif n < 0: \n",
    "\t\tprint(\"Incorrect input\") \n",
    "\telif n == 0: \n",
    "\t\treturn a \n",
    "\telif n == 1: \n",
    "\t\treturn b \n",
    "\telse: \n",
    "\t\tfor i in range(2,n): \n",
    "\t\t\tc = a + b \n",
    "\t\t\ta = b \n",
    "\t\t\tb = c \n",
    "\t\treturn b \n",
    "    \n",
    "n=int(input())\n",
    "print(fibonacci(n)) \n",
    "\n",
    "\n"
   ]
  },
  {
   "cell_type": "code",
   "execution_count": 1,
   "metadata": {},
   "outputs": [
    {
     "name": "stdout",
     "output_type": "stream",
     "text": [
      "Enter: 7\n",
      "Enter: 2\n",
      "Enter: bob\n",
      "Invalid input\n",
      "Enter: 10\n",
      "Enter: 4\n",
      "Enter: done\n",
      "largest 10\n",
      "smallest 2\n"
     ]
    }
   ],
   "source": [
    "largest=None\n",
    "smallest=None\n",
    "\n",
    "while True:\n",
    "    try:\n",
    "        num=input('Enter: ')\n",
    "        if num=='done':\n",
    "            break\n",
    "        if largest is None:\n",
    "            largest=int(num)\n",
    "        if int(num)>largest:\n",
    "            largest=int(num)\n",
    "        if smallest is None:\n",
    "            smallest = int(num)\n",
    "        if int(num) < smallest:\n",
    "            smallest=int(num)\n",
    "    except:\n",
    "        print('Invalid input')\n",
    "print('largest',largest)\n",
    "print('smallest',smallest)"
   ]
  }
 ],
 "metadata": {
  "kernelspec": {
   "display_name": "Python 3",
   "language": "python",
   "name": "python3"
  },
  "language_info": {
   "codemirror_mode": {
    "name": "ipython",
    "version": 3
   },
   "file_extension": ".py",
   "mimetype": "text/x-python",
   "name": "python",
   "nbconvert_exporter": "python",
   "pygments_lexer": "ipython3",
   "version": "3.7.4"
  }
 },
 "nbformat": 4,
 "nbformat_minor": 2
}
