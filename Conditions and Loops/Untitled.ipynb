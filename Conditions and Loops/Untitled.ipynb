{
 "cells": [
  {
   "cell_type": "code",
   "execution_count": 2,
   "metadata": {},
   "outputs": [
    {
     "name": "stdout",
     "output_type": "stream",
     "text": [
      "17000 A\n",
      "28730\n"
     ]
    }
   ],
   "source": [
    "## Read input as specified in the question.\n",
    "## Print output as specified in the question.\n",
    "basic,grade =input().split()\n",
    "hra=(20/100)*int(basic)\n",
    "da=(50/100)*int(basic)\n",
    "pf=(11/100)*int(basic)\n",
    "if(grade==\"A\"):\n",
    "    allow=1700\n",
    "elif(grade==\"B\"):\n",
    "    allow=1500\n",
    "else:\n",
    "    allow=1300\n",
    "totalsalary=int(basic)+hra+da+allow-pf\n",
    "print(int(totalsalary))"
   ]
  },
  {
   "cell_type": "code",
   "execution_count": 7,
   "metadata": {},
   "outputs": [
    {
     "name": "stdout",
     "output_type": "stream",
     "text": [
      "12345\n",
      "sum of even 0\n",
      "sum of odd 1\n"
     ]
    }
   ],
   "source": [
    "n=[int(x) for x in input().split()]\n",
    "count=0\n",
    "c=0\n",
    "i=0\n",
    "while(i<=len(n)):\n",
    "    if(i%2==0):\n",
    "        count=count+i\n",
    "        i=i+1\n",
    "    else:\n",
    "        c=c+i\n",
    "        i=i+1\n",
    "print(\"sum of even\",count)\n",
    "print(\"sum of odd\",c)"
   ]
  },
  {
   "cell_type": "code",
   "execution_count": 12,
   "metadata": {},
   "outputs": [
    {
     "name": "stdout",
     "output_type": "stream",
     "text": [
      "1234\n",
      "6  4\n"
     ]
    }
   ],
   "source": [
    "n=int(input())\n",
    "even_sum=0\n",
    "odd_sum=0\n",
    "while(n>0):\n",
    "    r=n%10\n",
    "    if( r%2==0):\n",
    "        even_sum=even_sum+r\n",
    "        n=n//10\n",
    "    else:\n",
    "        odd_sum=odd_sum+r\n",
    "        n=n//10\n",
    "print(even_sum,\"\",odd_sum)"
   ]
  },
  {
   "cell_type": "code",
   "execution_count": null,
   "metadata": {},
   "outputs": [],
   "source": [
    "def fibonacci(n):\n",
    "    a=0\n",
    "    b=1\n",
    "    if(n<0):\n",
    "        print(\"incorrect input\")\n",
    "    elif(n==0):\n",
    "        return a\n",
    "    elif(n==1):\n",
    "        return b\n",
    "    else:\n",
    "        for i in range(2,n):\n",
    "            c=a+b\n",
    "            a=b\n",
    "            b=c\n",
    "            return b\n",
    "n=int(input())\n",
    "z=fibonacci(n)\n",
    "print(z)"
   ]
  },
  {
   "cell_type": "markdown",
   "metadata": {},
   "source": [
    "Convert decimal to binary"
   ]
  },
  {
   "cell_type": "code",
   "execution_count": 7,
   "metadata": {},
   "outputs": [
    {
     "name": "stdout",
     "output_type": "stream",
     "text": [
      "10\n",
      "1010\n"
     ]
    }
   ],
   "source": [
    "n=int(input())\n",
    "ans=0\n",
    "pv=1\n",
    "while(n>0):\n",
    "    r=n%2\n",
    "    ans=ans+pv*r\n",
    "    pv=pv*10\n",
    "    n=n//2\n",
    "print(ans)"
   ]
  },
  {
   "cell_type": "markdown",
   "metadata": {},
   "source": [
    "Convert binary to decimal"
   ]
  },
  {
   "cell_type": "code",
   "execution_count": 11,
   "metadata": {},
   "outputs": [
    {
     "name": "stdout",
     "output_type": "stream",
     "text": [
      "111\n",
      "7\n"
     ]
    }
   ],
   "source": [
    "n=int(input())\n",
    "ans=0\n",
    "pv=1\n",
    "while(n>0):\n",
    "    last=n%10\n",
    "    ans=ans+last*pv\n",
    "    pv=pv*2\n",
    "    n=n//10\n",
    "print(ans)\n",
    "    \n",
    "    "
   ]
  }
 ],
 "metadata": {
  "kernelspec": {
   "display_name": "Python 3",
   "language": "python",
   "name": "python3"
  },
  "language_info": {
   "codemirror_mode": {
    "name": "ipython",
    "version": 3
   },
   "file_extension": ".py",
   "mimetype": "text/x-python",
   "name": "python",
   "nbconvert_exporter": "python",
   "pygments_lexer": "ipython3",
   "version": "3.7.4"
  }
 },
 "nbformat": 4,
 "nbformat_minor": 2
}
