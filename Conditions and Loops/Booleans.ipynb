{
 "cells": [
  {
   "cell_type": "markdown",
   "metadata": {},
   "source": [
    "## Booleans..."
   ]
  },
  {
   "cell_type": "code",
   "execution_count": 2,
   "metadata": {},
   "outputs": [
    {
     "name": "stdout",
     "output_type": "stream",
     "text": [
      "Type of a \n"
     ]
    },
    {
     "data": {
      "text/plain": [
       "str"
      ]
     },
     "execution_count": 2,
     "metadata": {},
     "output_type": "execute_result"
    }
   ],
   "source": [
    "#a=True   #keyword True\n",
    "#b=False   #Keyword False\n",
    "#a=\"True\"    # String not a keyword\n",
    "b=\"False\"   #String not a keyword\n",
    "#a=true    #Error not keyword nor string\n",
    "#b=false   # error not a keyword nor a string\n",
    "print(\"Type of a \")#type(a))\n",
    "type(b)"
   ]
  },
  {
   "cell_type": "markdown",
   "metadata": {},
   "source": [
    "# Relational operators"
   ]
  },
  {
   "cell_type": "code",
   "execution_count": 1,
   "metadata": {},
   "outputs": [
    {
     "name": "stdout",
     "output_type": "stream",
     "text": [
      "False\n",
      "True\n",
      "False\n",
      "True\n",
      "False\n",
      "True\n"
     ]
    }
   ],
   "source": [
    "a=10\n",
    "b=20\n",
    "print(a>b)  #is a greater than b\n",
    "print(a<b)  #is b smaller than b\n",
    "print(a>=b) #Is a greater than or equal than b\n",
    "print(a<=b) #Is a smaller than or eq#al than b\n",
    "print(a==b) #check if a=b   , but a=b is used to assign value therefore we use a==b\n",
    "print(a!=b) #check if a not equal to b"
   ]
  },
  {
   "cell_type": "markdown",
   "metadata": {},
   "source": [
    "# logical operator ,\n",
    "used when we combine multiple boolean into one"
   ]
  },
  {
   "cell_type": "code",
   "execution_count": 12,
   "metadata": {},
   "outputs": [
    {
     "name": "stdout",
     "output_type": "stream",
     "text": [
      "False\n",
      "True\n",
      "False\n",
      "True\n",
      "True\n"
     ]
    }
   ],
   "source": [
    "a=10\n",
    "b=20\n",
    "c1=a>10\n",
    "c2=b>10\n",
    "print(c1)\n",
    "print(c2)\n",
    "r1=c1 and c2  #c1 and c2 both are satisfying condition\n",
    "r2=c1 or c2   #c1 or c2 any one condition will work\n",
    "r3=not(c1)\n",
    "print(r1)\n",
    "print(r2)\n",
    "print(r3)"
   ]
  },
  {
   "cell_type": "markdown",
   "metadata": {},
   "source": [
    "# if else"
   ]
  },
  {
   "cell_type": "code",
   "execution_count": 16,
   "metadata": {},
   "outputs": [
    {
     "name": "stdout",
     "output_type": "stream",
     "text": [
      "i am inside else\n"
     ]
    }
   ],
   "source": [
    "a=False\n",
    "if a:\n",
    "    print(\"i am inside if\")   #Syntax:  if condition statement:  indentation should be below with some space\n",
    "else:\n",
    "    print(\"i am inside else\")"
   ]
  },
  {
   "cell_type": "code",
   "execution_count": 3,
   "metadata": {},
   "outputs": [
    {
     "name": "stdout",
     "output_type": "stream",
     "text": [
      "5\n",
      "Number is odd\n"
     ]
    }
   ],
   "source": [
    "# check if number is odd or even\n",
    "n=int(input())\n",
    "a=n%2\n",
    "even=(a==0)\n",
    "if even:\n",
    "    print(\"Number is even\")\n",
    "else:\n",
    "    print(\"Number is odd\")"
   ]
  },
  {
   "cell_type": "markdown",
   "metadata": {},
   "source": [
    "or"
   ]
  },
  {
   "cell_type": "code",
   "execution_count": 14,
   "metadata": {},
   "outputs": [
    {
     "name": "stdout",
     "output_type": "stream",
     "text": [
      "97464644444444444444444444444444444444444444444444444444444444444444444444444444444444444444444444444444444444444444\n",
      "Number is even\n"
     ]
    }
   ],
   "source": [
    "# check if number is odd or even\n",
    "n=int(input())\n",
    "even=(n%2==0)\n",
    "if even:\n",
    "    print(\"Number is even\")\n",
    "else:\n",
    "    print(\"Number is odd\")"
   ]
  },
  {
   "cell_type": "markdown",
   "metadata": {},
   "source": [
    "or"
   ]
  },
  {
   "cell_type": "code",
   "execution_count": 8,
   "metadata": {},
   "outputs": [
    {
     "name": "stdout",
     "output_type": "stream",
     "text": [
      "4\n",
      "Number is even\n"
     ]
    }
   ],
   "source": [
    "# check if number is odd or even\n",
    "n=int(input())\n",
    "if (n%2=0):\n",
    "    print(\"Number is even\")\n",
    "else:\n",
    "    print(\"Number is odd\")"
   ]
  },
  {
   "cell_type": "code",
   "execution_count": 24,
   "metadata": {},
   "outputs": [
    {
     "name": "stdout",
     "output_type": "stream",
     "text": [
      "too low\n"
     ]
    }
   ],
   "source": [
    "# check if number \n",
    "n=10\n",
    "if (n>=1 and n<=10):\n",
    "    print(\"too low\")\n",
    "elif(n>=10 and n<=20):\n",
    "    print(\"Medium\")\n",
    "else:\n",
    "    print(\"large\")"
   ]
  },
  {
   "cell_type": "code",
   "execution_count": 17,
   "metadata": {},
   "outputs": [
    {
     "name": "stdout",
     "output_type": "stream",
     "text": [
      "Hey\n"
     ]
    }
   ],
   "source": [
    "x=56\n",
    "if x<6:\n",
    "    print(\"Hello\")\n",
    "if x==5:\n",
    "    print(\"Hi\")\n",
    "else:\n",
    "    print(\"Hey\")"
   ]
  },
  {
   "cell_type": "code",
   "execution_count": 22,
   "metadata": {},
   "outputs": [
    {
     "name": "stdout",
     "output_type": "stream",
     "text": [
      "Value of a 10\n"
     ]
    }
   ],
   "source": [
    "a=10\n",
    "print('Value of a',a)"
   ]
  },
  {
   "cell_type": "code",
   "execution_count": 7,
   "metadata": {},
   "outputs": [
    {
     "name": "stdout",
     "output_type": "stream",
     "text": [
      "12\n",
      "33\n",
      "Both > 10\n"
     ]
    }
   ],
   "source": [
    "a=int(input())\n",
    "b=int(input())\n",
    "if (a>10 and b>10):\n",
    "    print(\"Both > 10\")\n",
    "else:\n",
    "    print(\"No they are not\")"
   ]
  },
  {
   "cell_type": "markdown",
   "metadata": {},
   "source": [
    "# else"
   ]
  },
  {
   "cell_type": "code",
   "execution_count": 11,
   "metadata": {},
   "outputs": [
    {
     "name": "stdout",
     "output_type": "stream",
     "text": [
      "12\n",
      "22\n",
      "12\n",
      "22 is greatest 22\n"
     ]
    }
   ],
   "source": [
    "# Greatest of 3 numbers\n",
    "a=int(input())\n",
    "b=int(input())\n",
    "c=int(input())\n",
    "if (a>=c and a>=b): \n",
    "    print(a,\"is greatest\")\n",
    "elif(b>=c and b>=a):\n",
    "    print(b,\"is greatest\",b)\n",
    "else:\n",
    "    print(c,\"is greatest\")"
   ]
  },
  {
   "cell_type": "code",
   "execution_count": 15,
   "metadata": {},
   "outputs": [
    {
     "name": "stdout",
     "output_type": "stream",
     "text": [
      "1\n",
      "Yellow\n"
     ]
    }
   ],
   "source": [
    "n=int(input())\n",
    "if (n>10):\n",
    "    print(\"red\")\n",
    "elif(n>=5):\n",
    "    print(\"Green\")\n",
    "elif(n>0):\n",
    "    print(\"Yellow\")"
   ]
  },
  {
   "cell_type": "code",
   "execution_count": 16,
   "metadata": {},
   "outputs": [
    {
     "name": "stdout",
     "output_type": "stream",
     "text": [
      "B\n"
     ]
    }
   ],
   "source": [
    "if True or False:\n",
    "    if False and True or False:\n",
    "        print(\"A\")\n",
    "    elif False and False or True and True:\n",
    "        print(\"Bo\n",
    "    else:\n",
    "        print(\"C\")\n",
    "else:\n",
    "    print(\"D\")\n",
    "    \n",
    "    "
   ]
  },
  {
   "cell_type": "code",
   "execution_count": 4,
   "metadata": {},
   "outputs": [
    {
     "ename": "SyntaxError",
     "evalue": "unexpected EOF while parsing (<ipython-input-4-29d50e96f9f7>, line 19)",
     "output_type": "error",
     "traceback": [
      "\u001b[1;36m  File \u001b[1;32m\"<ipython-input-4-29d50e96f9f7>\"\u001b[1;36m, line \u001b[1;32m19\u001b[0m\n\u001b[1;33m    \u001b[0m\n\u001b[1;37m    ^\u001b[0m\n\u001b[1;31mSyntaxError\u001b[0m\u001b[1;31m:\u001b[0m unexpected EOF while parsing\n"
     ]
    }
   ],
   "source": [
    "ch=int(input())\n",
    "a=int(input())\n",
    "b=int(input())\n",
    "if (ch!=6):\n",
    "    if ch==1:\n",
    "        print(a+b)\n",
    "    elif ch==2:\n",
    "        print(a-b)\n",
    "    elif ch==3:\n",
    "        print(a*b)\n",
    "    elif ch==4:\n",
    "        print(a/b)\n",
    "    elif ch==5:\n",
    "        print(a%b)\n",
    "    elif ch>=7:\n",
    "   \n",
    "    \n",
    "\n",
    "\n"
   ]
  }
 ],
 "metadata": {
  "kernelspec": {
   "display_name": "Python 3",
   "language": "python",
   "name": "python3"
  },
  "language_info": {
   "codemirror_mode": {
    "name": "ipython",
    "version": 3
   },
   "file_extension": ".py",
   "mimetype": "text/x-python",
   "name": "python",
   "nbconvert_exporter": "python",
   "pygments_lexer": "ipython3",
   "version": "3.7.4"
  }
 },
 "nbformat": 4,
 "nbformat_minor": 2
}
