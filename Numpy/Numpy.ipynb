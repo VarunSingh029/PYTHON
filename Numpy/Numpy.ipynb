{
 "cells": [
  {
   "cell_type": "code",
   "execution_count": 3,
   "metadata": {},
   "outputs": [
    {
     "name": "stdout",
     "output_type": "stream",
     "text": [
      "[[-1767571280       32760]\n",
      " [-1767566752       32760]]\n"
     ]
    }
   ],
   "source": [
    "import numpy as np\n",
    "print(np.empty((2,2),dtype=int))\n"
   ]
  },
  {
   "cell_type": "code",
   "execution_count": 4,
   "metadata": {},
   "outputs": [
    {
     "name": "stdout",
     "output_type": "stream",
     "text": [
      "0 0 0 0 1 0 0 0 0 0\n"
     ]
    }
   ],
   "source": [
    "import numpy as np\n",
    "array=np.zeros(10,dtype=int)\n",
    "array[4]=1\n",
    "print(*array)"
   ]
  },
  {
   "cell_type": "code",
   "execution_count": 5,
   "metadata": {},
   "outputs": [
    {
     "name": "stdout",
     "output_type": "stream",
     "text": [
      "[[1 2 3]\n",
      " [4 5 6]\n",
      " [7 8 9]]\n"
     ]
    }
   ],
   "source": [
    "import numpy as np\n",
    "li=[[1,2,3],[4,5,6],[7,8,9]]\n",
    "a=np.array(li)\n",
    "print(a)\n"
   ]
  },
  {
   "cell_type": "code",
   "execution_count": 8,
   "metadata": {},
   "outputs": [
    {
     "data": {
      "text/plain": [
       "array([[0.84170479, 0.18847191, 0.02791996, 0.2868018 ],\n",
       "       [0.97691594, 0.47399631, 0.56646882, 0.79296068],\n",
       "       [0.57056694, 0.85680254, 0.79745503, 0.02180211]])"
      ]
     },
     "execution_count": 8,
     "metadata": {},
     "output_type": "execute_result"
    }
   ],
   "source": [
    "import numpy as np\n",
    "b=np.random.rand(3,4)\n",
    "b"
   ]
  },
  {
   "cell_type": "code",
   "execution_count": 9,
   "metadata": {},
   "outputs": [
    {
     "data": {
      "text/plain": [
       "(4,)"
      ]
     },
     "execution_count": 9,
     "metadata": {},
     "output_type": "execute_result"
    }
   ],
   "source": [
    "a = np.array([0, 1, 2, 3])\n",
    "a.shape\n",
    "\n"
   ]
  },
  {
   "cell_type": "code",
   "execution_count": 10,
   "metadata": {},
   "outputs": [
    {
     "data": {
      "text/plain": [
       "0.1672803175116564"
      ]
     },
     "execution_count": 10,
     "metadata": {},
     "output_type": "execute_result"
    }
   ],
   "source": [
    "np.random.rand()"
   ]
  },
  {
   "cell_type": "code",
   "execution_count": 50,
   "metadata": {},
   "outputs": [
    {
     "data": {
      "text/plain": [
       "2"
      ]
     },
     "execution_count": 50,
     "metadata": {},
     "output_type": "execute_result"
    }
   ],
   "source": [
    "np.random.randint(50)"
   ]
  },
  {
   "cell_type": "code",
   "execution_count": 51,
   "metadata": {},
   "outputs": [
    {
     "data": {
      "text/plain": [
       "array([[7, 0, 2, 1],\n",
       "       [5, 6, 1, 0],\n",
       "       [7, 4, 9, 8],\n",
       "       [7, 3, 9, 8]])"
      ]
     },
     "execution_count": 51,
     "metadata": {},
     "output_type": "execute_result"
    }
   ],
   "source": [
    "np.random.randint(10,size=(4,4))"
   ]
  },
  {
   "cell_type": "code",
   "execution_count": 57,
   "metadata": {},
   "outputs": [
    {
     "name": "stdout",
     "output_type": "stream",
     "text": [
      "0.0\n",
      "0.625\n",
      "1.25\n",
      "1.875\n",
      "2.5\n",
      "3.125\n",
      "3.75\n",
      "4.375\n",
      "5.0\n",
      "0.625 0.625\n"
     ]
    }
   ],
   "source": [
    "import numpy as np\n",
    "b=np.linspace(0,5,9,dtype=float)\n",
    "for i in b:\n",
    "    print(i)\n",
    "print(b[1]-b[0],b[2]-b[1])"
   ]
  },
  {
   "cell_type": "code",
   "execution_count": 58,
   "metadata": {},
   "outputs": [
    {
     "name": "stdout",
     "output_type": "stream",
     "text": [
      "0.56\n",
      "1.11\n",
      "1.67\n",
      "2.22\n",
      "2.78\n",
      "3.33\n",
      "3.89\n",
      "4.44\n"
     ]
    }
   ],
   "source": [
    "import numpy as np\n",
    "x= np.linspace(0,5,10)[1:9]\n",
    "c=np.around(x,decimals=2)\n",
    "for i in c:\n",
    "    print(i)"
   ]
  },
  {
   "cell_type": "code",
   "execution_count": 70,
   "metadata": {},
   "outputs": [
    {
     "name": "stdout",
     "output_type": "stream",
     "text": [
      "0 1 4\n",
      "0 1 4 "
     ]
    }
   ],
   "source": [
    "import numpy as np\n",
    "a=np.array([1,2,0,0,4,0])\n",
    "\n",
    "b=np.where(a != 0 )[0]\n",
    "print(*b)\n",
    "for i in b:\n",
    "    print(i,end=' ')"
   ]
  },
  {
   "cell_type": "code",
   "execution_count": 76,
   "metadata": {
    "scrolled": true
   },
   "outputs": [
    {
     "name": "stdout",
     "output_type": "stream",
     "text": [
      "1 4 7\n"
     ]
    }
   ],
   "source": [
    "## Print the required output in given format\n",
    "import numpy as np\n",
    "a=np.array([1,3,5,7,9,11,13,15,17,19])\n",
    "b=np.where(a%3==0)[0]\n",
    "print(*b)"
   ]
  },
  {
   "cell_type": "code",
   "execution_count": 81,
   "metadata": {},
   "outputs": [
    {
     "name": "stdout",
     "output_type": "stream",
     "text": [
      "-1 2 -1 4 -1 6 -1 8 -1 10\n"
     ]
    }
   ],
   "source": [
    "import numpy as np\n",
    "a=np.array([1,2,3,4,5,6,7,8,9,10])\n",
    "a[a%2!=0]=-1\n",
    "\n",
    "print(*a)\n"
   ]
  },
  {
   "cell_type": "code",
   "execution_count": 17,
   "metadata": {},
   "outputs": [
    {
     "name": "stdout",
     "output_type": "stream",
     "text": [
      "11\n",
      "2\n",
      "13\n",
      "4\n",
      "15\n",
      "6\n",
      "0\n",
      "8\n",
      "19\n"
     ]
    }
   ],
   "source": [
    "import numpy as np\n",
    "a=np.array([11,2,13,4,15,6,27,8,19])\n",
    "a[np.where(a==a.max())]=0\n",
    "for i in a:\n",
    "    print(i)"
   ]
  },
  {
   "cell_type": "code",
   "execution_count": 22,
   "metadata": {},
   "outputs": [
    {
     "name": "stdout",
     "output_type": "stream",
     "text": [
      "1\n",
      "2\n",
      "-3\n",
      "-4\n",
      "-5\n",
      "-6\n",
      "-7\n",
      "-8\n",
      "9\n",
      "10\n"
     ]
    }
   ],
   "source": [
    "import numpy as np\n",
    "a=np.array([1,2,-3,-4,-5,-6,-7,-8,9,10])\n",
    "for i in a:\n",
    "    print(i)"
   ]
  },
  {
   "cell_type": "code",
   "execution_count": 40,
   "metadata": {},
   "outputs": [
    {
     "name": "stdout",
     "output_type": "stream",
     "text": [
      "1\n",
      "2\n",
      "-3\n",
      "-4\n",
      "-5\n",
      "-6\n",
      "-7\n",
      "-8\n",
      "9\n",
      "10\n"
     ]
    }
   ],
   "source": [
    "import numpy as np\n",
    "a=np.arange(1,11,1)\n",
    "index=np.where((a>=3) & (a<=8))\n",
    "for i in index:\n",
    "    a[i]=np.negative(a[i])\n",
    "for i in a:\n",
    "    print(i)"
   ]
  },
  {
   "cell_type": "code",
   "execution_count": 4,
   "metadata": {},
   "outputs": [
    {
     "name": "stdout",
     "output_type": "stream",
     "text": [
      "(array([ 0,  2,  3,  5, 10, 11, 13, 14, 16, 17, 18], dtype=int64),)\n",
      "15 156\n",
      "19 180\n",
      "20 162\n",
      "21 157\n",
      "22 158\n",
      "23 179\n",
      "16 182\n",
      "18 183\n",
      "20 159\n",
      "15 160\n",
      "17 172\n"
     ]
    }
   ],
   "source": [
    "import numpy as np\n",
    "age=np.array([15,17,19,20,14,21,16,19,13,20,22,23,21,16,18,19,20,15,17,18])\n",
    "height=np.array([156,144,180,162,152,157,154,155,151,150,158,179,126,182,183,154,159,160,172,149])\n",
    "height1=np.where(height>155)\n",
    "print(height1)\n",
    "for i in range(len(height1[0])):\n",
    "    print(age[height1[0][i]],height[height1][i])\n"
   ]
  },
  {
   "cell_type": "code",
   "execution_count": 13,
   "metadata": {},
   "outputs": [
    {
     "name": "stdout",
     "output_type": "stream",
     "text": [
      "[[21 20 19 18 17]\n",
      " [16 15 14 13 12]\n",
      " [11 10  9  8  7]\n",
      " [ 6  5  4  3  2]]\n"
     ]
    },
    {
     "ename": "AxisError",
     "evalue": "axis -1 is out of bounds for array of dimension 0",
     "output_type": "error",
     "traceback": [
      "\u001b[1;31m---------------------------------------------------------------------------\u001b[0m",
      "\u001b[1;31mAxisError\u001b[0m                                 Traceback (most recent call last)",
      "\u001b[1;32m<ipython-input-13-ae6ce0859036>\u001b[0m in \u001b[0;36m<module>\u001b[1;34m\u001b[0m\n\u001b[0;32m      4\u001b[0m \u001b[0mb\u001b[0m\u001b[1;33m=\u001b[0m\u001b[0mnp\u001b[0m\u001b[1;33m.\u001b[0m\u001b[0msort\u001b[0m\u001b[1;33m(\u001b[0m\u001b[0ma\u001b[0m\u001b[1;33m[\u001b[0m\u001b[1;33m:\u001b[0m\u001b[1;33m,\u001b[0m\u001b[1;36m1\u001b[0m\u001b[1;33m]\u001b[0m\u001b[1;33m)\u001b[0m\u001b[1;33m\u001b[0m\u001b[1;33m\u001b[0m\u001b[0m\n\u001b[0;32m      5\u001b[0m \u001b[1;32mfor\u001b[0m \u001b[0mi\u001b[0m \u001b[1;32min\u001b[0m \u001b[0mrange\u001b[0m\u001b[1;33m(\u001b[0m\u001b[0mlen\u001b[0m\u001b[1;33m(\u001b[0m\u001b[0ma\u001b[0m\u001b[1;33m)\u001b[0m\u001b[1;33m)\u001b[0m\u001b[1;33m:\u001b[0m\u001b[1;33m\u001b[0m\u001b[1;33m\u001b[0m\u001b[0m\n\u001b[1;32m----> 6\u001b[1;33m     \u001b[0ma\u001b[0m\u001b[1;33m[\u001b[0m\u001b[0mi\u001b[0m\u001b[1;33m,\u001b[0m\u001b[0mi\u001b[0m\u001b[1;33m]\u001b[0m\u001b[1;33m=\u001b[0m\u001b[0mnp\u001b[0m\u001b[1;33m.\u001b[0m\u001b[0msort\u001b[0m\u001b[1;33m(\u001b[0m\u001b[0ma\u001b[0m\u001b[1;33m[\u001b[0m\u001b[0mi\u001b[0m\u001b[1;33m,\u001b[0m\u001b[0mi\u001b[0m\u001b[1;33m]\u001b[0m\u001b[1;33m)\u001b[0m\u001b[1;33m\u001b[0m\u001b[1;33m\u001b[0m\u001b[0m\n\u001b[0m\u001b[0;32m      7\u001b[0m \u001b[0mprint\u001b[0m\u001b[1;33m(\u001b[0m\u001b[0ma\u001b[0m\u001b[1;33m)\u001b[0m\u001b[1;33m\u001b[0m\u001b[1;33m\u001b[0m\u001b[0m\n",
      "\u001b[1;32mC:\\Anaconda\\lib\\site-packages\\numpy\\core\\fromnumeric.py\u001b[0m in \u001b[0;36msort\u001b[1;34m(a, axis, kind, order)\u001b[0m\n\u001b[0;32m    932\u001b[0m     \u001b[1;32melse\u001b[0m\u001b[1;33m:\u001b[0m\u001b[1;33m\u001b[0m\u001b[1;33m\u001b[0m\u001b[0m\n\u001b[0;32m    933\u001b[0m         \u001b[0ma\u001b[0m \u001b[1;33m=\u001b[0m \u001b[0masanyarray\u001b[0m\u001b[1;33m(\u001b[0m\u001b[0ma\u001b[0m\u001b[1;33m)\u001b[0m\u001b[1;33m.\u001b[0m\u001b[0mcopy\u001b[0m\u001b[1;33m(\u001b[0m\u001b[0morder\u001b[0m\u001b[1;33m=\u001b[0m\u001b[1;34m\"K\"\u001b[0m\u001b[1;33m)\u001b[0m\u001b[1;33m\u001b[0m\u001b[1;33m\u001b[0m\u001b[0m\n\u001b[1;32m--> 934\u001b[1;33m     \u001b[0ma\u001b[0m\u001b[1;33m.\u001b[0m\u001b[0msort\u001b[0m\u001b[1;33m(\u001b[0m\u001b[0maxis\u001b[0m\u001b[1;33m=\u001b[0m\u001b[0maxis\u001b[0m\u001b[1;33m,\u001b[0m \u001b[0mkind\u001b[0m\u001b[1;33m=\u001b[0m\u001b[0mkind\u001b[0m\u001b[1;33m,\u001b[0m \u001b[0morder\u001b[0m\u001b[1;33m=\u001b[0m\u001b[0morder\u001b[0m\u001b[1;33m)\u001b[0m\u001b[1;33m\u001b[0m\u001b[1;33m\u001b[0m\u001b[0m\n\u001b[0m\u001b[0;32m    935\u001b[0m     \u001b[1;32mreturn\u001b[0m \u001b[0ma\u001b[0m\u001b[1;33m\u001b[0m\u001b[1;33m\u001b[0m\u001b[0m\n\u001b[0;32m    936\u001b[0m \u001b[1;33m\u001b[0m\u001b[0m\n",
      "\u001b[1;31mAxisError\u001b[0m: axis -1 is out of bounds for array of dimension 0"
     ]
    }
   ],
   "source": [
    "import numpy as np\n",
    "a=np.array( [[21, 20, 19, 18, 17],[16, 15, 14, 13, 12],[11, 10,  9,  8,  7],[ 6,  5,  4,  3,  2]])\n",
    "print(a)\n"
   ]
  },
  {
   "cell_type": "code",
   "execution_count": 17,
   "metadata": {},
   "outputs": [
    {
     "name": "stdout",
     "output_type": "stream",
     "text": [
      "3771\n"
     ]
    }
   ],
   "source": [
    "import numpy  as np\n",
    "import csv\n",
    "with open('terrorismData.csv',encoding=\"utf8\") as file:\n",
    "    filename=csv.DictReader(file,skipinitialspace=True)\n",
    "    filedata=list(filename)\n",
    "country=[]\n",
    "killed=[]\n",
    "for row in filedata:\n",
    "    if row[\"Country\"]=='United States':\n",
    "        killed.append(row['Killed'])\n",
    "kill=np.array(killed)\n",
    "kill[kill=='']='0.0'\n",
    "kill=np.array(kill,dtype=float)\n",
    "print(np.sum(kill,dtype=int))"
   ]
  },
  {
   "cell_type": "code",
   "execution_count": 18,
   "metadata": {},
   "outputs": [
    {
     "name": "stdout",
     "output_type": "stream",
     "text": [
      "0\n"
     ]
    }
   ],
   "source": [
    "import numpy  as np\n",
    "import csv\n",
    "with open('terrorismData.csv',encoding=\"utf8\") as file:\n",
    "    filename=csv.DictReader(file,skipinitialspace=True)\n",
    "    filedata=list(filename)\n",
    "country=[]\n",
    "killed=[]\n",
    "for row in filedata:\n",
    "    country.append(row[\"Country\"])\n",
    "    killed.append(row['Killed'])\n",
    "kill=np.array(killed)\n",
    "kill[kill=='']='0.0'\n",
    "ans=kill[country=='United States']\n",
    "kill=np.array(ans,dtype=float)\n",
    "print(np.sum(kill,dtype=int))"
   ]
  },
  {
   "cell_type": "code",
   "execution_count": 6,
   "metadata": {},
   "outputs": [
    {
     "name": "stdout",
     "output_type": "stream",
     "text": [
      "66330\n"
     ]
    }
   ],
   "source": [
    "import numpy as np\n",
    "import csv\n",
    "with open('terrorismData.csv',encoding=\"utf8\") as file:\n",
    "    filename=csv.DictReader(file,skipinitialspace=True)\n",
    "    filedata=list(filename)\n",
    "day=[]\n",
    "for row in filedata:\n",
    "        day.append(row['Day'])\n",
    "day=np.array(day,dtype=int)\n",
    "day=day[(day>=10) & (day<=20)]\n",
    "count=0\n",
    "\n",
    "for i in range(len(day)):\n",
    "    count+=1\n",
    "print(count)"
   ]
  },
  {
   "cell_type": "code",
   "execution_count": 9,
   "metadata": {},
   "outputs": [
    {
     "name": "stdout",
     "output_type": "stream",
     "text": [
      "271\n"
     ]
    }
   ],
   "source": [
    "import numpy as np\n",
    "import csv\n",
    "with open('terrorismData.csv',encoding=\"utf8\") as file:\n",
    "    filename=csv.DictReader(file,skipinitialspace=True)\n",
    "    filedata=list(filename)\n",
    "day=[]\n",
    "for row in filedata:\n",
    "    if row['Year']=='2010' and row['Month']=='1':\n",
    "        day.append(row['Day'])\n",
    "day=np.array(day,dtype=int) \n",
    "day=day[(day>=1)&(day<=31)]\n",
    "count=0\n",
    "for i in range(len(day)):\n",
    "    count+=1\n",
    "print(count)"
   ]
  },
  {
   "cell_type": "code",
   "execution_count": 5,
   "metadata": {},
   "outputs": [
    {
     "name": "stdout",
     "output_type": "stream",
     "text": [
      "22 Kargil District Separatists\n"
     ]
    }
   ],
   "source": [
    "import numpy as np\n",
    "import csv\n",
    "with open('terrorismData.csv',encoding=\"utf8\") as file:\n",
    "    filedata=csv.DictReader(file,skipinitialspace=True)\n",
    "    wounded=[]\n",
    "    city=[]\n",
    "    group=[]\n",
    "    killed=[]\n",
    "    for row in filedata:\n",
    "        if row['Year']=='1999' and row[\"State\"]==\"Jammu and Kashmir\":\n",
    "            a=row['Month']\n",
    "            if a=='5' or a=='6' or a=='7':\n",
    "                group.append(row['Group'])\n",
    "                city.append(row['City'])\n",
    "                killed.append(row['Killed'])\n",
    "                wounded.append(row['Wounded'])\n",
    "kill=np.array(killed)\n",
    "kill[kill=='']='0.0'\n",
    "wound=np.array(wounded)\n",
    "wound[wound=='']='0.0'\n",
    "kill=np.array(kill,dtype=float)\n",
    "wound=np.array(wound,dtype=float)\n",
    "casualities=kill+wound\n",
    "casual=np.array(casualities,dtype=int)\n",
    "city=np.array(city)\n",
    "group=np.array(group)\n",
    "maxcasual=np.argmax(casual)\n",
    "cas=np.max(casual)\n",
    "city=city[maxcasual]\n",
    "group=group[maxcasual]\n",
    "print(cas,city,group)\n",
    "\n"
   ]
  },
  {
   "cell_type": "code",
   "execution_count": 11,
   "metadata": {},
   "outputs": [
    {
     "name": "stdout",
     "output_type": "stream",
     "text": [
      "5628\n"
     ]
    }
   ],
   "source": [
    "import numpy as np\n",
    "import csv\n",
    "with open('terrorismData.csv',encoding=\"utf8\") as file:\n",
    "    filename=csv.DictReader(file,skipinitialspace=True)\n",
    "    filedata=filename                 # Don't make list it will increase time complexity \n",
    "    kill=[]\n",
    "    wound=[]\n",
    "    for row in filedata:\n",
    "        a=row['State']\n",
    "        if a=='Jharkhand' or a=='Odisha' or a=='Andhra Pradesh' or a=='Chhattisgarh':\n",
    "            kill.append(row['Killed'])\n",
    "            wound.append(row['Wounded'])\n",
    "kill=np.array(kill)\n",
    "wound=np.array(wound)\n",
    "kill[kill=='']='0.0'\n",
    "wound[wound=='']='0.0'\n",
    "kill=np.array(kill,dtype=float)\n",
    "wound=np.array(wound,dtype=float)\n",
    "casual=kill+wound\n",
    "count=np.sum(casual,dtype=int)\n",
    "print(count)"
   ]
  },
  {
   "cell_type": "code",
   "execution_count": 12,
   "metadata": {},
   "outputs": [
    {
     "ename": "AttributeError",
     "evalue": "'dict' object has no attribute 'sort'",
     "output_type": "error",
     "traceback": [
      "\u001b[1;31m---------------------------------------------------------------------------\u001b[0m",
      "\u001b[1;31mAttributeError\u001b[0m                            Traceback (most recent call last)",
      "\u001b[1;32m<ipython-input-12-a508d5759135>\u001b[0m in \u001b[0;36m<module>\u001b[1;34m\u001b[0m\n\u001b[0;32m     26\u001b[0m     \u001b[1;32melse\u001b[0m\u001b[1;33m:\u001b[0m\u001b[1;33m\u001b[0m\u001b[1;33m\u001b[0m\u001b[0m\n\u001b[0;32m     27\u001b[0m         \u001b[0mdict\u001b[0m\u001b[1;33m[\u001b[0m\u001b[0mcity\u001b[0m\u001b[1;33m[\u001b[0m\u001b[0mi\u001b[0m\u001b[1;33m]\u001b[0m\u001b[1;33m]\u001b[0m\u001b[1;33m=\u001b[0m\u001b[0mcasual\u001b[0m\u001b[1;33m[\u001b[0m\u001b[0mi\u001b[0m\u001b[1;33m]\u001b[0m\u001b[1;33m\u001b[0m\u001b[1;33m\u001b[0m\u001b[0m\n\u001b[1;32m---> 28\u001b[1;33m \u001b[0ma\u001b[0m\u001b[1;33m=\u001b[0m\u001b[0mdict\u001b[0m\u001b[1;33m.\u001b[0m\u001b[0msort\u001b[0m\u001b[1;33m(\u001b[0m\u001b[1;33m)\u001b[0m\u001b[1;33m[\u001b[0m\u001b[1;33m:\u001b[0m\u001b[1;33m:\u001b[0m\u001b[1;33m-\u001b[0m\u001b[1;36m1\u001b[0m\u001b[1;33m]\u001b[0m\u001b[1;33m\u001b[0m\u001b[1;33m\u001b[0m\u001b[0m\n\u001b[0m\u001b[0;32m     29\u001b[0m \u001b[0mprint\u001b[0m\u001b[1;33m(\u001b[0m\u001b[0ma\u001b[0m\u001b[1;33m)\u001b[0m\u001b[1;33m\u001b[0m\u001b[1;33m\u001b[0m\u001b[0m\n",
      "\u001b[1;31mAttributeError\u001b[0m: 'dict' object has no attribute 'sort'"
     ]
    }
   ],
   "source": [
    "import numpy as np\n",
    "import csv\n",
    "with open('terrorismData.csv',encoding=\"utf8\") as file:\n",
    "    filedata=csv.DictReader(file,skipinitialspace=True)\n",
    "    wounded=[]\n",
    "    city=[]\n",
    "    killed=[]\n",
    "    dict={}\n",
    "    for row in filedata:\n",
    "        if row['Country']=='India' and row['City']!='Unknown':\n",
    "            city.append(row['City'])\n",
    "            killed.append(row['Killed'])\n",
    "            wounded.append(row['Wounded'])\n",
    "kill=np.array(killed)\n",
    "city=np.array(city)\n",
    "wound=np.array(wounded)\n",
    "kill[kill=='']='0.0'\n",
    "wound[wound=='']='0.0'\n",
    "kill=np.array(kill,dtype=float)\n",
    "wound=np.array(wound,dtype=float)\n",
    "casual=kill+wound\n",
    "dict={}\n",
    "for i in range(len(city)):\n",
    "    if city[i] in dict:\n",
    "        dict[city[i]]+=casual[i]\n",
    "    else:\n",
    "        dict[city[i]]=casual[i]\n",
    "a=dict.sort()[::-1]\n",
    "print(a)"
   ]
  },
  {
   "cell_type": "code",
   "execution_count": 10,
   "metadata": {},
   "outputs": [
    {
     "name": "stdout",
     "output_type": "stream",
     "text": [
      "Srinagar 3134\n",
      "New Delhi 2095\n",
      "Mumbai 2016\n",
      "Jammu 1119\n",
      "Guwahati 822\n"
     ]
    }
   ],
   "source": [
    "with open('terrorismData.csv', encoding='utf8') as file_obj:\n",
    "    file_data=csv.DictReader(file_obj, skipinitialspace=True)\n",
    "    killed=[]\n",
    "    wounded=[]\n",
    "    city=[]\n",
    "    for row in file_data:\n",
    "        if 'India' in row['Country'] and 'Unknown' not in row['City']:\n",
    "            city.append(row['City'])\n",
    "            wounded.append(row['Wounded'])\n",
    "            killed.append(row['Killed'])\n",
    "    np_wounded=np.array(wounded)\n",
    "    np_killed=np.array(killed)\n",
    "    np_city=np.array(city)\n",
    "    \n",
    "    np_killed[np_killed=='']='0.0'\n",
    "    np_wounded[np_wounded=='']='0.0'\n",
    "    np_killed=np.array(np_killed, dtype='float')\n",
    "    np_wounded=np.array(np_wounded, dtype='float')\n",
    "    np_casuality=np.array(np_wounded+np_killed, dtype='int')\n",
    "    \n",
    "    \n",
    "    citydic={}\n",
    "    for i in range(len(np_city)):\n",
    "        if np_city[i] in citydic:\n",
    "            citydic[np_city[i]]+=np_casuality[i]\n",
    "        else:\n",
    "            citydic[np_city[i]]=np_casuality[i]\n",
    "    \n",
    "    count=0\n",
    "    city=''\n",
    "    for i in citydic:\n",
    "        if citydic[i]>count:\n",
    "            count=citydic[i]\n",
    "            city=i\n",
    "    print(city, count)\n",
    "    del citydic[city]\n",
    "    \n",
    "    count=0\n",
    "    city=''\n",
    "    for i in citydic:\n",
    "        if citydic[i]>count:\n",
    "            count=citydic[i]\n",
    "            city=i\n",
    "    print(city, count)\n",
    "    del citydic[city]\n",
    "    \n",
    "    count=0\n",
    "    city=''\n",
    "    for i in citydic:\n",
    "        if citydic[i]>count:\n",
    "            count=citydic[i]\n",
    "            city=i\n",
    "    print(city, count)\n",
    "    del citydic[city]\n",
    "    \n",
    "    count=0\n",
    "    city=''\n",
    "    for i in citydic:\n",
    "        if citydic[i]>count:\n",
    "            count=citydic[i]\n",
    "            city=i\n",
    "    print(city, count)\n",
    "    del citydic[city]\n",
    "    \n",
    "    count=0\n",
    "    city=''\n",
    "    for i in citydic:\n",
    "        if citydic[i]>count:\n",
    "            count=citydic[i]\n",
    "            city=i\n",
    "    print(city, count)\n",
    "    del citydic[city]\n",
    "    "
   ]
  },
  {
   "cell_type": "code",
   "execution_count": 14,
   "metadata": {},
   "outputs": [
    {
     "name": "stdout",
     "output_type": "stream",
     "text": [
      "15 6500\n"
     ]
    }
   ],
   "source": [
    "import numpy as np\n",
    "import csv\n",
    "\n",
    "with open('terrorismData.csv', encoding='utf8') as file_obj:\n",
    "    file_data=csv.DictReader(file_obj, skipinitialspace=True)\n",
    "    \n",
    "    day=[]\n",
    "    for row in file_data:\n",
    "        day.append(row['Day'])\n",
    "    np_day=np.array(day, dtype='int')\n",
    "    day, count=np.unique(np_day, return_counts=True)\n",
    "    print(day[np.argmax(count)], count[np.argmax(count)])"
   ]
  },
  {
   "cell_type": "code",
   "execution_count": 43,
   "metadata": {},
   "outputs": [
    {
     "name": "stdout",
     "output_type": "stream",
     "text": [
      "5628\n"
     ]
    }
   ],
   "source": [
    "## Print the required output in given format\n",
    "import csv\n",
    "import numpy as np\n",
    "fileObj=open(\"terrorismData.csv\",encoding='utf-8')\n",
    "fileData= csv.DictReader(fileObj)\n",
    "cas=[]\n",
    "for i in fileData:\n",
    "    a=i['State']\n",
    "    if a=='Jharkhand' or a=='Odisha' or a=='Andhra Pradesh' or a=='Chhattisgarh':\n",
    "        cas.append([i['Wounded'],i['Killed']])\n",
    "#for i in fileData:\n",
    "#    if i['State']=='Jharkhand' or i['State']=='Odisha' or i['State']=='Andhra Pradesh' or i['State']=='Chattisgarh':\n",
    "#        cas.append([i['Wounded'],i['Killed']])\n",
    "npcas=np.array(cas)\n",
    "npcas[npcas==\"\"]=0\n",
    "npcas=np.array(npcas,dtype=float)\n",
    "npcas=np.sum(npcas,axis=1)\n",
    "print(int(np.sum(npcas)))\n",
    "\n",
    "    "
   ]
  },
  {
   "cell_type": "code",
   "execution_count": 39,
   "metadata": {},
   "outputs": [
    {
     "name": "stdout",
     "output_type": "stream",
     "text": [
      "3110\n"
     ]
    }
   ],
   "source": [
    "import csv\n",
    "import numpy as np\n",
    "fileObj=open(\"terrorismData.csv\",encoding='utf-8')\n",
    "fileData= csv.DictReader(fileObj)\n",
    "cas=[]\n",
    "for i in fileData:\n",
    "    if i['State']=='Jharkhand' or i['State']=='Odisha' or i['State']=='Andhra Pradesh' or i['State']=='Chattisgarh':\n",
    "        cas.append([i['Wounded'],i['Killed']])\n",
    "npcas=np.array(cas)\n",
    "npcas[npcas==\"\"]=0\n",
    "npcas=np.array(npcas,dtype=float)\n",
    "npcas=np.sum(npcas,axis=1)\n",
    "print(int(np.sum(npcas)))\n"
   ]
  },
  {
   "cell_type": "code",
   "execution_count": 4,
   "metadata": {},
   "outputs": [
    {
     "name": "stdout",
     "output_type": "stream",
     "text": [
      "3771\n"
     ]
    }
   ],
   "source": [
    "import numpy  as np\n",
    "import csv\n",
    "with open('terrorismData.csv',encoding=\"utf8\") as file:\n",
    "    filename=csv.DictReader(file,skipinitialspace=True)\n",
    "    filedata=list(filename)\n",
    "country=[]\n",
    "killed=[]\n",
    "for row in filedata:\n",
    "    if row[\"Country\"]=='United States':\n",
    "        killed.append(row['Killed'])\n",
    "kill=np.array(killed)\n",
    "kill[kill=='']='0.0'\n",
    "kill=np.array(kill,dtype=float)\n",
    "count=0\n",
    "for i in kill:\n",
    "    count=count+i;\n",
    "    \n",
    "print(int(count))"
   ]
  },
  {
   "cell_type": "code",
   "execution_count": 3,
   "metadata": {},
   "outputs": [
    {
     "ename": "ValueError",
     "evalue": "could not convert string to float: ''",
     "output_type": "error",
     "traceback": [
      "\u001b[1;31m---------------------------------------------------------------------------\u001b[0m",
      "\u001b[1;31mValueError\u001b[0m                                Traceback (most recent call last)",
      "\u001b[1;32m<ipython-input-3-f5c4ddf09f1f>\u001b[0m in \u001b[0;36m<module>\u001b[1;34m\u001b[0m\n\u001b[0;32m     13\u001b[0m \u001b[0mnp_country\u001b[0m\u001b[1;33m=\u001b[0m\u001b[0mnp\u001b[0m\u001b[1;33m.\u001b[0m\u001b[0marray\u001b[0m\u001b[1;33m(\u001b[0m\u001b[0mcountry\u001b[0m\u001b[1;33m)\u001b[0m\u001b[1;33m\u001b[0m\u001b[1;33m\u001b[0m\u001b[0m\n\u001b[0;32m     14\u001b[0m \u001b[0mnp_killed\u001b[0m\u001b[1;33m[\u001b[0m\u001b[0mnp_killed\u001b[0m\u001b[1;33m==\u001b[0m\u001b[1;34m' '\u001b[0m\u001b[1;33m]\u001b[0m\u001b[1;33m=\u001b[0m\u001b[1;34m'0.0'\u001b[0m\u001b[1;33m\u001b[0m\u001b[1;33m\u001b[0m\u001b[0m\n\u001b[1;32m---> 15\u001b[1;33m \u001b[0mnp_killed\u001b[0m\u001b[1;33m=\u001b[0m\u001b[0mnp\u001b[0m\u001b[1;33m.\u001b[0m\u001b[0marray\u001b[0m\u001b[1;33m(\u001b[0m\u001b[0mnp_killed\u001b[0m\u001b[1;33m,\u001b[0m\u001b[0mdtype\u001b[0m\u001b[1;33m=\u001b[0m\u001b[0mfloat\u001b[0m\u001b[1;33m)\u001b[0m\u001b[1;33m\u001b[0m\u001b[1;33m\u001b[0m\u001b[0m\n\u001b[0m\u001b[0;32m     16\u001b[0m \u001b[0mnp_killed\u001b[0m\u001b[1;33m=\u001b[0m\u001b[0mnp\u001b[0m\u001b[1;33m.\u001b[0m\u001b[0marray\u001b[0m\u001b[1;33m(\u001b[0m\u001b[0mnp_killed\u001b[0m\u001b[1;33m,\u001b[0m\u001b[0mdtype\u001b[0m\u001b[1;33m=\u001b[0m\u001b[0mint\u001b[0m\u001b[1;33m)\u001b[0m\u001b[1;33m\u001b[0m\u001b[1;33m\u001b[0m\u001b[0m\n\u001b[0;32m     17\u001b[0m \u001b[0mbool_arr\u001b[0m\u001b[1;33m=\u001b[0m\u001b[1;33m[\u001b[0m\u001b[0mnp_country\u001b[0m\u001b[1;33m==\u001b[0m\u001b[1;34m'United States'\u001b[0m\u001b[1;33m]\u001b[0m\u001b[1;33m\u001b[0m\u001b[1;33m\u001b[0m\u001b[0m\n",
      "\u001b[1;31mValueError\u001b[0m: could not convert string to float: ''"
     ]
    }
   ],
   "source": [
    "import csv\n",
    "import numpy as np\n",
    "with open('terrorismData.csv',encoding='UTF-8') as file_obj:\n",
    "    file_data= csv.DictReader(file_obj,skipinitialspace=True)\n",
    "    file_list=list(file_data)\n",
    "    \n",
    "killed=[]\n",
    "country=[]\n",
    "for row in file_list:\n",
    "    killed.append(row['Killed'])\n",
    "    country.append(row['Country'])\n",
    "np_killed=np.array(killed)\n",
    "np_country=np.array(country)\n",
    "np_killed[np_killed==' ']='0.0'\n",
    "np_killed=np.array(np_killed,dtype=float)\n",
    "np_killed=np.array(np_killed,dtype=int)\n",
    "bool_arr=[np_country=='United States']\n",
    "ans=np_killed[bool_arr]\n",
    "for i in ans:\n",
    "    print(i)"
   ]
  },
  {
   "cell_type": "code",
   "execution_count": 14,
   "metadata": {},
   "outputs": [
    {
     "name": "stdout",
     "output_type": "stream",
     "text": [
      "5448\n",
      "115 261\n"
     ]
    }
   ],
   "source": [
    "## Open and read data file as specified in the question\n",
    "## Print the required output in given format\n",
    "import pandas as pd\n",
    "import numpy as np\n",
    "td=pd.read_csv('terrorismData.csv', encoding='utf8')\n",
    "df_terrorism=td.copy()\n",
    "year=len(set(df_terrorism['Year']))\n",
    "df_terrorism=df_terrorism[df_terrorism['Country']=='India']\n",
    "df_terrorism['Casualty']=df_terrorism['Killed']+df_terrorism['Wounded']\n",
    "Jammu_state=df_terrorism[df_terrorism['State']=='Jammu and Kashmir']\n",
    "red_state=df_terrorism[(df_terrorism['State']=='Jharkhand')|(df_terrorism['State']=='Odisha')\n",
    "                       |(df_terrorism['State']=='Andhra Pradesh')|(df_terrorism['State']=='Chhattisgarh')]\n",
    "red_casualty=int(np.sum(red_state['Casualty']))\n",
    "print(red_casualty)\n",
    "Jammu_casualty=int(np.sum(Jammu_state['Casualty']))\n",
    "print(red_casualty//year,Jammu_casualty//year)\n"
   ]
  },
  {
   "cell_type": "code",
   "execution_count": 10,
   "metadata": {},
   "outputs": [
    {
     "name": "stdout",
     "output_type": "stream",
     "text": [
      "5628.0\n",
      "119   269\n"
     ]
    }
   ],
   "source": [
    "## Print the required output in given format\n",
    "import pandas as pd\n",
    "import numpy as np\n",
    "a = pd.read_csv(\"terrorismData.csv\")\n",
    "b = a.copy()\n",
    "x = b[(b.State == \"Jharkhand\")|(b.State == \"Odisha\")|(b.State == \"Andhra Pradesh\")|(b.State == \"Chhattisgarh\")]\n",
    "\n",
    "c1 = x.Killed.sum() + x.Wounded.sum()\n",
    "print(c1)\n",
    "ans1 = c1/(b.Year.value_counts().index.size)\n",
    "y = b[b.State == \"Jammu and Kashmir\"]\n",
    "c2 = np.sum(y['Killed']) + np.sum(y['Wounded'])\n",
    "ans2 = c2/(b.Year.value_counts().index.size)\n",
    "print(str(int(ans1)),\" \",str(int(ans2)))"
   ]
  }
 ],
 "metadata": {
  "kernelspec": {
   "display_name": "Python 3",
   "language": "python",
   "name": "python3"
  },
  "language_info": {
   "codemirror_mode": {
    "name": "ipython",
    "version": 3
   },
   "file_extension": ".py",
   "mimetype": "text/x-python",
   "name": "python",
   "nbconvert_exporter": "python",
   "pygments_lexer": "ipython3",
   "version": "3.8.3"
  }
 },
 "nbformat": 4,
 "nbformat_minor": 2
}
