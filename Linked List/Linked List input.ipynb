{
 "cells": [
  {
   "cell_type": "code",
   "execution_count": 9,
   "metadata": {},
   "outputs": [
    {
     "name": "stdout",
     "output_type": "stream",
     "text": [
      "1 2 3 4 5 6 -1\n",
      "1->2->3->4->5->6->None\n"
     ]
    }
   ],
   "source": [
    "class Node:\n",
    "    def __init__(self,data):\n",
    "        self.data=data\n",
    "        self.next=None\n",
    "def printll(head):\n",
    "    while(head is not None):\n",
    "        print(str(head.data)+\"->\",end=\"\")\n",
    "        head=head.next\n",
    "    print(\"None\")\n",
    "    return\n",
    "        \n",
    "def takeinput():\n",
    "    inputlist=[int(ele) for ele in input().split()]\n",
    "    head=None\n",
    "    #tail=None\n",
    "    for currdata in inputlist:\n",
    "        if currdata==-1:\n",
    "            break\n",
    "        Newnode=Node(currdata)\n",
    "        if head==None:\n",
    "            head=Newnode\n",
    "            #tail=Newnode\n",
    "        else:\n",
    "            #tail.next=newnode\n",
    "            #tail=newnode\n",
    "            curr=head\n",
    "            while(curr.next!=None):\n",
    "                curr=curr.next\n",
    "            curr.next=Newnode\n",
    "    return head\n",
    "head=takeinput()\n",
    "printll(head)"
   ]
  },
  {
   "cell_type": "code",
   "execution_count": null,
   "metadata": {},
   "outputs": [],
   "source": []
  }
 ],
 "metadata": {
  "kernelspec": {
   "display_name": "Python 3",
   "language": "python",
   "name": "python3"
  },
  "language_info": {
   "codemirror_mode": {
    "name": "ipython",
    "version": 3
   },
   "file_extension": ".py",
   "mimetype": "text/x-python",
   "name": "python",
   "nbconvert_exporter": "python",
   "pygments_lexer": "ipython3",
   "version": "3.7.4"
  }
 },
 "nbformat": 4,
 "nbformat_minor": 2
}
