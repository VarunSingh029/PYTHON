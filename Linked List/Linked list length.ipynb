{
 "cells": [
  {
   "cell_type": "code",
   "execution_count": 1,
   "metadata": {},
   "outputs": [
    {
     "ename": "IndentationError",
     "evalue": "expected an indented block (<ipython-input-1-7ac4079c1ff9>, line 15)",
     "output_type": "error",
     "traceback": [
      "\u001b[1;36m  File \u001b[1;32m\"<ipython-input-1-7ac4079c1ff9>\"\u001b[1;36m, line \u001b[1;32m15\u001b[0m\n\u001b[1;33m    arr=[int(i) for i in input().split(\" \")]\u001b[0m\n\u001b[1;37m                                            ^\u001b[0m\n\u001b[1;31mIndentationError\u001b[0m\u001b[1;31m:\u001b[0m expected an indented block\n"
     ]
    }
   ],
   "source": [
    "class Node:\n",
    "    def __init__(self,data):\n",
    "        self.data=data\n",
    "        self.next=None\n",
    "def ll(arr):\n",
    "    if len(arr)==0:\n",
    "        return\n",
    "    else:\n",
    "        head=None\n",
    "        tail=None\n",
    "        while(tail is not None):\n",
    "            tail=tail.next\n",
    "        tail.next=Node()\n",
    "        \n",
    "            \n",
    "            \n",
    "#main\n",
    "#read linked list elements including -1\n",
    "arr=[int(i) for i in input().split(\" \")]\n",
    "#creating linked list after removing -1 from list\n",
    "l=ll(arr[:-1])\n",
    "len=length(l)\n",
    "print(len)"
   ]
  },
  {
   "cell_type": "code",
   "execution_count": null,
   "metadata": {},
   "outputs": [],
   "source": [
    "\n"
   ]
  }
 ],
 "metadata": {
  "kernelspec": {
   "display_name": "Python 3",
   "language": "python",
   "name": "python3"
  },
  "language_info": {
   "codemirror_mode": {
    "name": "ipython",
    "version": 3
   },
   "file_extension": ".py",
   "mimetype": "text/x-python",
   "name": "python",
   "nbconvert_exporter": "python",
   "pygments_lexer": "ipython3",
   "version": "3.7.4"
  }
 },
 "nbformat": 4,
 "nbformat_minor": 2
}
