{
 "cells": [
  {
   "cell_type": "code",
   "execution_count": 6,
   "metadata": {},
   "outputs": [
    {
     "name": "stdout",
     "output_type": "stream",
     "text": [
      "2\n"
     ]
    },
    {
     "data": {
      "text/plain": [
       "5"
      ]
     },
     "execution_count": 6,
     "metadata": {},
     "output_type": "execute_result"
    }
   ],
   "source": [
    "def lastIndex(arr,x,ei):\n",
    "    if ei==-1:\n",
    "        return -1\n",
    "    if x==arr[ei]:\n",
    "        return ei\n",
    "    occ=lastIndex(arr,x,ei-1)\n",
    "    return occ\n",
    "arr=[1,2,3,4,2,2]\n",
    "x=int(input())\n",
    "l=len(arr)\n",
    "ei=l-1\n",
    "lastIndex(arr,x,ei)"
   ]
  },
  {
   "cell_type": "code",
   "execution_count": null,
   "metadata": {},
   "outputs": [],
   "source": [
    "## Read input as specified in the question.\n",
    "## Print output as specified in the question.\n",
    "def lastIndex(arr,x,ei):\n",
    "    if ei==-1:\n",
    "        return -1\n",
    "    if x==arr[ei]:\n",
    "        return ei\n",
    "    occ=lastIndex(arr,x,ei-1)\n",
    "    return occ\n",
    "from sys import setrecursionlimit\n",
    "setrecursionlimit(11000)\n",
    "n=int(input())\n",
    "arr=list(int(i) for i in input().strip().split(' '))\n",
    "x=int(input())\n",
    "ei=n-1\n",
    "lastIndex(arr,x,ei)"
   ]
  },
  {
   "cell_type": "code",
   "execution_count": null,
   "metadata": {},
   "outputs": [],
   "source": [
    "# indexing start from 0\n",
    "\n",
    "## Read input as specified in the question.\n",
    "## Print output as specified in the question.\n",
    "def lastIndex(arr,x,si):\n",
    "    if si==n:\n",
    "        return -1\n",
    "    smallerlistoutput=lastIndex(arr,x,si+1)\n",
    "    if smallerlistoutput!=-1:\n",
    "        return smallerlistoutput\n",
    "    else:\n",
    "        if arr[si]==x:\n",
    "            return si\n",
    "        else:\n",
    "            return -1\n",
    "from sys import setrecursionlimit\n",
    "setrecursionlimit(11000)\n",
    "n=int(input())\n",
    "arr=list(int(i) for i in input().strip().split(' '))\n",
    "x=int(input())\n",
    "print(lastIndex(arr,x,0))"
   ]
  }
 ],
 "metadata": {
  "kernelspec": {
   "display_name": "Python 3",
   "language": "python",
   "name": "python3"
  },
  "language_info": {
   "codemirror_mode": {
    "name": "ipython",
    "version": 3
   },
   "file_extension": ".py",
   "mimetype": "text/x-python",
   "name": "python",
   "nbconvert_exporter": "python",
   "pygments_lexer": "ipython3",
   "version": "3.7.1"
  }
 },
 "nbformat": 4,
 "nbformat_minor": 2
}
