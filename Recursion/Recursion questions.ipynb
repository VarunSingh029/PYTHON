{
 "cells": [
  {
   "cell_type": "code",
   "execution_count": 1,
   "metadata": {},
   "outputs": [
    {
     "name": "stdout",
     "output_type": "stream",
     "text": [
      "1 2\n"
     ]
    }
   ],
   "source": [
    "\n",
    "arr=[int(i) for i in input().split()]"
   ]
  },
  {
   "cell_type": "code",
   "execution_count": 2,
   "metadata": {},
   "outputs": [
    {
     "name": "stdout",
     "output_type": "stream",
     "text": [
      "2 3\n",
      "8\n"
     ]
    }
   ],
   "source": [
    "## Read input as specified in the question.\n",
    "## Print output as specified in the question.\n",
    "arr=[int(i) for i in input().split()]\n",
    "x=arr[0]\n",
    "n=arr[1]\n",
    "p=x**n\n",
    "print(p)"
   ]
  },
  {
   "cell_type": "code",
   "execution_count": 3,
   "metadata": {},
   "outputs": [
    {
     "name": "stdout",
     "output_type": "stream",
     "text": [
      "16\n"
     ]
    }
   ],
   "source": [
    "def fun(n):\n",
    "    if(n == 4):\n",
    "        return n\n",
    "    else:\n",
    "        return 2*fun(n+1)\n",
    "\n",
    "\n",
    "print(fun(2))"
   ]
  },
  {
   "cell_type": "code",
   "execution_count": 6,
   "metadata": {},
   "outputs": [
    {
     "name": "stdout",
     "output_type": "stream",
     "text": [
      "3 \n",
      "9 8 9\n",
      "26\n"
     ]
    }
   ],
   "source": [
    "def sumArray(arr):\n",
    "    sum=0\n",
    "    for i in range(n):\n",
    "        sum=sum+arr[i]\n",
    "    return sum\n",
    "    # Please add your code here\n",
    "    pass\n",
    "\n",
    "# Main\n",
    "from sys import setrecursionlimit\n",
    "setrecursionlimit(11000)\n",
    "n=int(input())\n",
    "arr=list(int(i) for i in input().strip().split(' '))\n",
    "print(sumArray(arr))\n"
   ]
  },
  {
   "cell_type": "code",
   "execution_count": 3,
   "metadata": {},
   "outputs": [
    {
     "name": "stdout",
     "output_type": "stream",
     "text": [
      "varunxbx\n",
      "varunb\n"
     ]
    }
   ],
   "source": [
    "# Problem: Remove x from string\n",
    "def removeX(s):\n",
    "    if len(s)==0:\n",
    "        return s\n",
    "    smalloutput=removeX(s[1:])\n",
    "    if s[0]=='x':\n",
    "        return smalloutput\n",
    "    else:\n",
    "        return s[0]+smalloutput\n",
    "    pass\n",
    "\n",
    "# Main\n",
    "s = input()\n",
    "print(removeX(s))\n"
   ]
  },
  {
   "cell_type": "code",
   "execution_count": 11,
   "metadata": {},
   "outputs": [
    {
     "name": "stdout",
     "output_type": "stream",
     "text": [
      "vvvarun\n",
      "vvarun\n"
     ]
    }
   ],
   "source": [
    "def removeConsecutiveDuplicates(string):\n",
    "    if len(string)==0 or len(string)==1:\n",
    "        return string\n",
    "    if string[0]==string[1]:\n",
    "        smalloutput=removeConsecutiveDuplicates(string[2:])\n",
    "        return string[0]+smalloutput\n",
    "    else:\n",
    "        smalloutput=removeConsecutiveDuplicates(string[1:])\n",
    "        return  string[0]+smalloutput\n",
    "    # Please add your code here\n",
    "    pass\n",
    "\n",
    "# Main\n",
    "string = input().strip()\n",
    "print(removeConsecutiveDuplicates(string))\n"
   ]
  },
  {
   "cell_type": "code",
   "execution_count": 14,
   "metadata": {},
   "outputs": [
    {
     "name": "stdout",
     "output_type": "stream",
     "text": [
      "jahaj\n"
     ]
    },
    {
     "data": {
      "text/plain": [
       "True"
      ]
     },
     "execution_count": 14,
     "metadata": {},
     "output_type": "execute_result"
    }
   ],
   "source": [
    "## Read input as specified in the question.\n",
    "## Print output as specified in the question.\n",
    "def palindrome(string):\n",
    "    if len(string)==0:\n",
    "        return\n",
    "    \n",
    "    rev = ''.join(reversed(string)) \n",
    "    if (string== rev): \n",
    "        return True\n",
    "    return False\n",
    "  \n",
    "\n",
    "string=input()\n",
    "palindrome(string)"
   ]
  },
  {
   "cell_type": "code",
   "execution_count": 1,
   "metadata": {},
   "outputs": [
    {
     "name": "stdout",
     "output_type": "stream",
     "text": [
      "The Zen of Python, by Tim Peters\n",
      "\n",
      "Beautiful is better than ugly.\n",
      "Explicit is better than implicit.\n",
      "Simple is better than complex.\n",
      "Complex is better than complicated.\n",
      "Flat is better than nested.\n",
      "Sparse is better than dense.\n",
      "Readability counts.\n",
      "Special cases aren't special enough to break the rules.\n",
      "Although practicality beats purity.\n",
      "Errors should never pass silently.\n",
      "Unless explicitly silenced.\n",
      "In the face of ambiguity, refuse the temptation to guess.\n",
      "There should be one-- and preferably only one --obvious way to do it.\n",
      "Although that way may not be obvious at first unless you're Dutch.\n",
      "Now is better than never.\n",
      "Although never is often better than *right* now.\n",
      "If the implementation is hard to explain, it's a bad idea.\n",
      "If the implementation is easy to explain, it may be a good idea.\n",
      "Namespaces are one honking great idea -- let's do more of those!\n"
     ]
    }
   ],
   "source": [
    "import this"
   ]
  },
  {
   "cell_type": "code",
   "execution_count": 13,
   "metadata": {},
   "outputs": [
    {
     "name": "stdout",
     "output_type": "stream",
     "text": [
      "\n",
      "false\n"
     ]
    }
   ],
   "source": [
    "def palindrome(s,si,ei):\n",
    "    if len(s)==1:\n",
    "        return True\n",
    "    while si<ei:\n",
    "        \n",
    "        if s[si]==s[ei]:\n",
    "            palindrome(s,si+1,ei-1)\n",
    "            return True\n",
    "    else:\n",
    "        return False\n",
    "    \n",
    "s=input()\n",
    "palindrome(s,0,len(s)-1)\n",
    "if palindrome(s,0,len(s)-1):\n",
    "    print(\"true\")\n",
    "else:\n",
    "    print(\"false\")"
   ]
  },
  {
   "cell_type": "code",
   "execution_count": null,
   "metadata": {},
   "outputs": [],
   "source": [
    "def palindrome(s,si,ei):\n",
    "    if si>=ei:\n",
    "        return True\n",
    "        \n",
    "    if s[si]==s[ei]:\n",
    "        return palindrome(s,si+1,ei-1)\n",
    "    else:\n",
    "        return False\n",
    "    \n",
    "s=input()\n",
    "palindrome(s,0,len(s)-1)\n",
    "if palindrome(s,0,len(s)-1):\n",
    "    print(\"true\")\n",
    "else:\n",
    "    print(\"false\")"
   ]
  },
  {
   "cell_type": "code",
   "execution_count": 2,
   "metadata": {},
   "outputs": [
    {
     "name": "stdout",
     "output_type": "stream",
     "text": [
      "29\n",
      "11\n"
     ]
    }
   ],
   "source": [
    "def sum_of_digit( n): \n",
    "    if n == 0: \n",
    "        return 0\n",
    "    return (n % 10 + sum_of_digit(int(n / 10))) \n",
    "  \n",
    "# Driven code to check above \n",
    "n = int(input())\n",
    "result = sum_of_digit(n) \n",
    "print(result) "
   ]
  },
  {
   "cell_type": "code",
   "execution_count": 7,
   "metadata": {},
   "outputs": [
    {
     "name": "stdout",
     "output_type": "stream",
     "text": [
      "baruuun\n",
      "baru*uun\n"
     ]
    }
   ],
   "source": [
    "def sep(string):\n",
    "    if len(string)==0 or len(string)==1:\n",
    "        return string\n",
    "    if string[0]==string[1]:\n",
    "        smalloutput=sep(string[2:])\n",
    "        return string[0]+'*'+string[1]+smalloutput\n",
    "    else:\n",
    "        smalloutput=sep(string[1:])\n",
    "        return  string[0]+smalloutput\n",
    "    # Please add your code here\n",
    "    pass\n",
    "\n",
    "# Main\n",
    "string = input().strip()\n",
    "print(sep(string))\n"
   ]
  },
  {
   "cell_type": "code",
   "execution_count": 2,
   "metadata": {},
   "outputs": [
    {
     "name": "stdout",
     "output_type": "stream",
     "text": [
      "3 \n",
      "0\n",
      "0\n"
     ]
    }
   ],
   "source": [
    "def multiply(m,n):\n",
    "    if ( n==0):\n",
    "        return 0\n",
    "    else:\n",
    "        return (m*(n-1))+m\n",
    "m=int(input())\n",
    "n=int(input())\n",
    "print(multiply(m,n))"
   ]
  },
  {
   "cell_type": "code",
   "execution_count": 5,
   "metadata": {},
   "outputs": [
    {
     "name": "stdout",
     "output_type": "stream",
     "text": [
      "11 22\n",
      "11 22\n"
     ]
    }
   ],
   "source": [
    "row,column=map(int,input().split())\n",
    "print(row,column)"
   ]
  }
 ],
 "metadata": {
  "kernelspec": {
   "display_name": "Python 3",
   "language": "python",
   "name": "python3"
  },
  "language_info": {
   "codemirror_mode": {
    "name": "ipython",
    "version": 3
   },
   "file_extension": ".py",
   "mimetype": "text/x-python",
   "name": "python",
   "nbconvert_exporter": "python",
   "pygments_lexer": "ipython3",
   "version": "3.8.3"
  }
 },
 "nbformat": 4,
 "nbformat_minor": 2
}
